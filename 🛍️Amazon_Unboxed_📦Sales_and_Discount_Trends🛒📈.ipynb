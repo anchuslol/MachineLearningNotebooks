{
  "metadata": {
    "kernelspec": {
      "name": "python3",
      "display_name": "Python 3",
      "language": "python"
    },
    "language_info": {
      "name": "python",
      "version": "3.10.13",
      "mimetype": "text/x-python",
      "codemirror_mode": {
        "name": "ipython",
        "version": 3
      },
      "pygments_lexer": "ipython3",
      "nbconvert_exporter": "python",
      "file_extension": ".py"
    },
    "kaggle": {
      "accelerator": "none",
      "dataSources": [
        {
          "sourceId": 1548153,
          "sourceType": "datasetVersion",
          "datasetId": 910808
        },
        {
          "sourceId": 2403172,
          "sourceType": "datasetVersion",
          "datasetId": 1453186
        },
        {
          "sourceId": 4472377,
          "sourceType": "datasetVersion",
          "datasetId": 2617613
        },
        {
          "sourceId": 4642886,
          "sourceType": "datasetVersion",
          "datasetId": 2699295
        },
        {
          "sourceId": 4862520,
          "sourceType": "datasetVersion",
          "datasetId": 2818963
        },
        {
          "sourceId": 5239462,
          "sourceType": "datasetVersion",
          "datasetId": 3020336
        },
        {
          "sourceId": 6058421,
          "sourceType": "datasetVersion",
          "datasetId": 3466780
        },
        {
          "sourceId": 6169470,
          "sourceType": "datasetVersion",
          "datasetId": 3539920
        },
        {
          "sourceId": 6435177,
          "sourceType": "datasetVersion",
          "datasetId": 3713612
        },
        {
          "sourceId": 7574373,
          "sourceType": "datasetVersion",
          "datasetId": 4409989
        },
        {
          "sourceId": 7643327,
          "sourceType": "datasetVersion",
          "datasetId": 3798081
        },
        {
          "sourceId": 7761022,
          "sourceType": "datasetVersion",
          "datasetId": 4538961
        },
        {
          "sourceId": 7957877,
          "sourceType": "datasetVersion",
          "datasetId": 3864183
        },
        {
          "sourceId": 8227051,
          "sourceType": "datasetVersion",
          "datasetId": 4878304
        },
        {
          "sourceId": 8771994,
          "sourceType": "datasetVersion",
          "datasetId": 5271604
        },
        {
          "sourceId": 9240530,
          "sourceType": "datasetVersion",
          "datasetId": 5589626
        },
        {
          "sourceId": 9436678,
          "sourceType": "datasetVersion",
          "datasetId": 5733745
        },
        {
          "sourceId": 9448429,
          "sourceType": "datasetVersion",
          "datasetId": 5742693
        },
        {
          "sourceId": 11268405,
          "sourceType": "datasetVersion",
          "datasetId": 7043791
        }
      ],
      "dockerImageVersionId": 30746,
      "isInternetEnabled": true,
      "language": "python",
      "sourceType": "notebook",
      "isGpuEnabled": false
    },
    "colab": {
      "name": "🛍️Amazon Unboxed: 📦Sales and Discount Trends🛒📈",
      "provenance": [],
      "include_colab_link": true
    }
  },
  "nbformat_minor": 0,
  "nbformat": 4,
  "cells": [
    {
      "cell_type": "markdown",
      "metadata": {
        "id": "view-in-github",
        "colab_type": "text"
      },
      "source": [
        "<a href=\"https://colab.research.google.com/github/anchuslol/MachineLearningNotebooks/blob/master/%F0%9F%9B%8D%EF%B8%8FAmazon_Unboxed_%F0%9F%93%A6Sales_and_Discount_Trends%F0%9F%9B%92%F0%9F%93%88.ipynb\" target=\"_parent\"><img src=\"https://colab.research.google.com/assets/colab-badge.svg\" alt=\"Open In Colab\"/></a>"
      ]
    },
    {
      "source": [
        "# IMPORTANT: RUN THIS CELL IN ORDER TO IMPORT YOUR KAGGLE DATA SOURCES,\n",
        "# THEN FEEL FREE TO DELETE THIS CELL.\n",
        "# NOTE: THIS NOTEBOOK ENVIRONMENT DIFFERS FROM KAGGLE'S PYTHON\n",
        "# ENVIRONMENT SO THERE MAY BE MISSING LIBRARIES USED BY YOUR\n",
        "# NOTEBOOK.\n",
        "import kagglehub\n",
        "edwardtoledolpez_amazon_mexico_top_50_best_sellers_path = kagglehub.dataset_download('edwardtoledolpez/amazon-mexico-top-50-best-sellers')\n",
        "edusanketdk_electronics_path = kagglehub.dataset_download('edusanketdk/electronics')\n",
        "earthfromtop_amazon_sales_fy202021_path = kagglehub.dataset_download('earthfromtop/amazon-sales-fy202021')\n",
        "thedevastator_unlock_profits_with_e_commerce_sales_data_path = kagglehub.dataset_download('thedevastator/unlock-profits-with-e-commerce-sales-data')\n",
        "karkavelrajaj_amazon_sales_dataset_path = kagglehub.dataset_download('karkavelrajaj/amazon-sales-dataset')\n",
        "lokeshparab_amazon_products_dataset_path = kagglehub.dataset_download('lokeshparab/amazon-products-dataset')\n",
        "regulad_amazon_path = kagglehub.dataset_download('regulad/amazon')\n",
        "ahmedsayed564_amazon_products_sales_dataset_2023_path = kagglehub.dataset_download('ahmedsayed564/amazon-products-sales-dataset-2023')\n",
        "ahmedsayed564_amazon_sales_dataset_path = kagglehub.dataset_download('ahmedsayed564/amazon-sales-dataset')\n",
        "kanchana1990_2024_amazon_best_sellers_top_valentine_gifts_path = kagglehub.dataset_download('kanchana1990/2024-amazon-best-sellers-top-valentine-gifts')\n",
        "asaniczka_amazon_products_dataset_2023_1_4m_products_path = kagglehub.dataset_download('asaniczka/amazon-products-dataset-2023-1-4m-products')\n",
        "anandshaw2001_amazon_sales_dataset_path = kagglehub.dataset_download('anandshaw2001/amazon-sales-dataset')\n",
        "asaniczka_amazon_uk_products_dataset_2023_path = kagglehub.dataset_download('asaniczka/amazon-uk-products-dataset-2023')\n",
        "aaronfriasr_amazon_products_dataset_path = kagglehub.dataset_download('aaronfriasr/amazon-products-dataset')\n",
        "mithilesh9_amazon_sales_data_analysis_path = kagglehub.dataset_download('mithilesh9/amazon-sales-data-analysis')\n",
        "durjoychandrapaul_amazon_products_sales_monitor_dataset_path = kagglehub.dataset_download('durjoychandrapaul/amazon-products-sales-monitor-dataset')\n",
        "shreyasur965_phone_search_dataset_path = kagglehub.dataset_download('shreyasur965/phone-search-dataset')\n",
        "irtezasyed_amazon_sales_dataset_path = kagglehub.dataset_download('irtezasyed/amazon-sales-dataset')\n",
        "zahidmughal2343_amazon_sales_2025_path = kagglehub.dataset_download('zahidmughal2343/amazon-sales-2025')\n",
        "\n",
        "print('Data source import complete.')\n"
      ],
      "metadata": {
        "id": "-u2sqaSWVf1N"
      },
      "cell_type": "code",
      "outputs": [],
      "execution_count": null
    },
    {
      "cell_type": "markdown",
      "source": [
        "<h3 style = \"background-color: #000033;\n",
        "             padding: 15px;\n",
        "             font: bold 42px arial;\n",
        "             color: #ccebff;\n",
        "             border: 2px #e6e6ff;\n",
        "             border-radius: 8px\">\n",
        " AMAZON BUSINESS AND SALES ANALYTICS </h3>"
      ],
      "metadata": {
        "id": "VZL5a8ZfVf1O"
      }
    },
    {
      "cell_type": "markdown",
      "source": [
        "\n",
        "<p style=\"font: 30px Arial;\n",
        "          color: black;\n",
        "          text-shadow: 2px 2px 4px #aaa;\">\n",
        "Let's Begin!!\n",
        "</p>\n"
      ],
      "metadata": {
        "id": "R2nZFfSiVf1P"
      }
    },
    {
      "cell_type": "markdown",
      "source": [
        " <div style=\"background-color: #e7f3fe;\n",
        "            padding: 20px;\n",
        "            font: bold 18px Arial;\n",
        "            color: #31708f;\n",
        "            border: 2px solid #bce8f1;\n",
        "            border-radius: 8px;\">\n",
        "Reading CSV Files\n",
        "</div>"
      ],
      "metadata": {
        "id": "Qa_Aoi3UVf1P"
      }
    },
    {
      "cell_type": "code",
      "source": [
        "import numpy as np\n",
        "import pandas as pd\n",
        "import seaborn as sns\n",
        "import matplotlib.pyplot as plt"
      ],
      "metadata": {
        "execution": {
          "iopub.status.busy": "2025-04-03T13:07:37.330246Z",
          "iopub.execute_input": "2025-04-03T13:07:37.33065Z",
          "iopub.status.idle": "2025-04-03T13:07:37.336227Z",
          "shell.execute_reply.started": "2025-04-03T13:07:37.330617Z",
          "shell.execute_reply": "2025-04-03T13:07:37.334995Z"
        },
        "trusted": true,
        "id": "92QBdhwyVf1P"
      },
      "outputs": [],
      "execution_count": null
    },
    {
      "cell_type": "code",
      "source": [
        "data=pd.read_csv('/kaggle/input/amazon-products-dataset/Amazon-Products.csv')"
      ],
      "metadata": {
        "scrolled": true,
        "execution": {
          "iopub.status.busy": "2025-04-03T13:07:37.337402Z",
          "iopub.execute_input": "2025-04-03T13:07:37.337786Z",
          "iopub.status.idle": "2025-04-03T13:07:41.575647Z",
          "shell.execute_reply.started": "2025-04-03T13:07:37.337739Z",
          "shell.execute_reply": "2025-04-03T13:07:41.574467Z"
        },
        "trusted": true,
        "id": "a3p4coKWVf1P"
      },
      "outputs": [],
      "execution_count": null
    },
    {
      "cell_type": "code",
      "source": [
        "data.sample(10)"
      ],
      "metadata": {
        "scrolled": true,
        "execution": {
          "iopub.status.busy": "2025-04-03T13:07:41.57685Z",
          "iopub.execute_input": "2025-04-03T13:07:41.577175Z",
          "iopub.status.idle": "2025-04-03T13:07:41.613104Z",
          "shell.execute_reply.started": "2025-04-03T13:07:41.577147Z",
          "shell.execute_reply": "2025-04-03T13:07:41.612093Z"
        },
        "trusted": true,
        "id": "LBB0i6u4Vf1Q"
      },
      "outputs": [],
      "execution_count": null
    },
    {
      "cell_type": "code",
      "source": [
        "import warnings\n",
        "\n",
        "# Ignore all warnings\n",
        "warnings.filterwarnings(\"ignore\")"
      ],
      "metadata": {
        "trusted": true,
        "execution": {
          "iopub.status.busy": "2025-04-03T13:41:04.924608Z",
          "iopub.execute_input": "2025-04-03T13:41:04.925107Z",
          "iopub.status.idle": "2025-04-03T13:41:04.930741Z",
          "shell.execute_reply.started": "2025-04-03T13:41:04.925075Z",
          "shell.execute_reply": "2025-04-03T13:41:04.929278Z"
        },
        "id": "1BDK27cJVf1Q"
      },
      "outputs": [],
      "execution_count": null
    },
    {
      "cell_type": "markdown",
      "source": [
        "# Data Cleaning"
      ],
      "metadata": {
        "_kg_hide-input": true,
        "_kg_hide-output": true,
        "id": "vyyFoz5vVf1Q"
      }
    },
    {
      "cell_type": "markdown",
      "source": [
        "\n",
        " <div style=\"background-color: #e7f3fe;\n",
        "            padding: 20px;\n",
        "            font: bold 18px Arial;\n",
        "            color: #31708f;\n",
        "            border: 2px solid #bce8f1;\n",
        "            border-radius: 8px;\">\n",
        "Data Cleaning\n",
        "</div>"
      ],
      "metadata": {
        "id": "taJ3PE9MVf1Q"
      }
    },
    {
      "cell_type": "code",
      "source": [
        "data.shape"
      ],
      "metadata": {
        "execution": {
          "iopub.status.busy": "2025-04-03T13:07:41.614211Z",
          "iopub.execute_input": "2025-04-03T13:07:41.614528Z",
          "iopub.status.idle": "2025-04-03T13:07:41.62122Z",
          "shell.execute_reply.started": "2025-04-03T13:07:41.614499Z",
          "shell.execute_reply": "2025-04-03T13:07:41.619947Z"
        },
        "trusted": true,
        "id": "iipCITEfVf1Q"
      },
      "outputs": [],
      "execution_count": null
    },
    {
      "cell_type": "code",
      "source": [
        "#checking for  duplicates\n",
        "data.duplicated().sum()"
      ],
      "metadata": {
        "execution": {
          "iopub.status.busy": "2025-04-03T13:07:41.622584Z",
          "iopub.execute_input": "2025-04-03T13:07:41.622901Z",
          "iopub.status.idle": "2025-04-03T13:07:42.677091Z",
          "shell.execute_reply.started": "2025-04-03T13:07:41.622876Z",
          "shell.execute_reply": "2025-04-03T13:07:42.675928Z"
        },
        "trusted": true,
        "id": "VB-DSWXcVf1Q"
      },
      "outputs": [],
      "execution_count": null
    },
    {
      "cell_type": "code",
      "source": [
        "data.drop_duplicates(inplace=True)"
      ],
      "metadata": {
        "execution": {
          "iopub.status.busy": "2025-04-03T13:07:42.678335Z",
          "iopub.execute_input": "2025-04-03T13:07:42.678682Z",
          "iopub.status.idle": "2025-04-03T13:07:43.763683Z",
          "shell.execute_reply.started": "2025-04-03T13:07:42.678657Z",
          "shell.execute_reply": "2025-04-03T13:07:43.762372Z"
        },
        "trusted": true,
        "id": "w9C0xN3oVf1Q"
      },
      "outputs": [],
      "execution_count": null
    },
    {
      "cell_type": "code",
      "source": [
        "data.shape"
      ],
      "metadata": {
        "execution": {
          "iopub.status.busy": "2025-04-03T13:07:43.765523Z",
          "iopub.execute_input": "2025-04-03T13:07:43.765888Z",
          "iopub.status.idle": "2025-04-03T13:07:43.772622Z",
          "shell.execute_reply.started": "2025-04-03T13:07:43.765856Z",
          "shell.execute_reply": "2025-04-03T13:07:43.771562Z"
        },
        "trusted": true,
        "id": "jSClZpMQVf1R"
      },
      "outputs": [],
      "execution_count": null
    },
    {
      "cell_type": "code",
      "source": [
        "data=data.loc[:,['name','main_category','sub_category','ratings','no_of_ratings','discount_price','actual_price']]"
      ],
      "metadata": {
        "execution": {
          "iopub.status.busy": "2025-04-03T13:07:43.773847Z",
          "iopub.execute_input": "2025-04-03T13:07:43.774165Z",
          "iopub.status.idle": "2025-04-03T13:07:43.860981Z",
          "shell.execute_reply.started": "2025-04-03T13:07:43.77414Z",
          "shell.execute_reply": "2025-04-03T13:07:43.859634Z"
        },
        "trusted": true,
        "id": "YdSxBqHvVf1R"
      },
      "outputs": [],
      "execution_count": null
    },
    {
      "cell_type": "code",
      "source": [
        "data.columns"
      ],
      "metadata": {
        "execution": {
          "iopub.status.busy": "2025-04-03T13:07:43.862358Z",
          "iopub.execute_input": "2025-04-03T13:07:43.862719Z",
          "iopub.status.idle": "2025-04-03T13:07:43.869717Z",
          "shell.execute_reply.started": "2025-04-03T13:07:43.862692Z",
          "shell.execute_reply": "2025-04-03T13:07:43.868614Z"
        },
        "trusted": true,
        "id": "MfMdkzogVf1R"
      },
      "outputs": [],
      "execution_count": null
    },
    {
      "cell_type": "code",
      "source": [
        "data.info()"
      ],
      "metadata": {
        "execution": {
          "iopub.status.busy": "2025-04-03T13:07:43.871005Z",
          "iopub.execute_input": "2025-04-03T13:07:43.871335Z",
          "iopub.status.idle": "2025-04-03T13:07:44.070209Z",
          "shell.execute_reply.started": "2025-04-03T13:07:43.871309Z",
          "shell.execute_reply": "2025-04-03T13:07:44.069047Z"
        },
        "trusted": true,
        "id": "5XWTVDw1Vf1R"
      },
      "outputs": [],
      "execution_count": null
    },
    {
      "cell_type": "code",
      "source": [
        "\n",
        "# Apply strip to all cells that are strings\n",
        "data = data.map(lambda x: x.strip() if isinstance(x, str) else x)\n",
        "\n"
      ],
      "metadata": {
        "execution": {
          "iopub.status.busy": "2025-04-03T13:07:44.0715Z",
          "iopub.execute_input": "2025-04-03T13:07:44.071833Z",
          "iopub.status.idle": "2025-04-03T13:07:45.086969Z",
          "shell.execute_reply.started": "2025-04-03T13:07:44.071805Z",
          "shell.execute_reply": "2025-04-03T13:07:45.085484Z"
        },
        "trusted": true,
        "id": "Xnb7sS1eVf1R"
      },
      "outputs": [],
      "execution_count": null
    },
    {
      "cell_type": "code",
      "source": [
        "data.shape"
      ],
      "metadata": {
        "execution": {
          "iopub.status.busy": "2025-04-03T13:07:45.088671Z",
          "iopub.execute_input": "2025-04-03T13:07:45.089023Z",
          "iopub.status.idle": "2025-04-03T13:07:45.098441Z",
          "shell.execute_reply.started": "2025-04-03T13:07:45.088995Z",
          "shell.execute_reply": "2025-04-03T13:07:45.09705Z"
        },
        "trusted": true,
        "id": "q17-MuxuVf1R"
      },
      "outputs": [],
      "execution_count": null
    },
    {
      "cell_type": "code",
      "source": [
        "data.isnull().sum()"
      ],
      "metadata": {
        "execution": {
          "iopub.status.busy": "2025-04-03T13:07:45.100209Z",
          "iopub.execute_input": "2025-04-03T13:07:45.100568Z",
          "iopub.status.idle": "2025-04-03T13:07:45.306714Z",
          "shell.execute_reply.started": "2025-04-03T13:07:45.10054Z",
          "shell.execute_reply": "2025-04-03T13:07:45.305336Z"
        },
        "trusted": true,
        "id": "_08PB0QLVf1R"
      },
      "outputs": [],
      "execution_count": null
    },
    {
      "cell_type": "code",
      "source": [
        "#calculating %missing data\n",
        "\n",
        "percent_miss=[]\n",
        "for col in data.columns:\n",
        "    percentage=(data[col].isnull().sum()/data.shape[0])*100\n",
        "    print('{}-  {}%'.format(col,np.round(percentage,4)))"
      ],
      "metadata": {
        "execution": {
          "iopub.status.busy": "2025-04-03T13:07:45.308291Z",
          "iopub.execute_input": "2025-04-03T13:07:45.308747Z",
          "iopub.status.idle": "2025-04-03T13:07:45.504321Z",
          "shell.execute_reply.started": "2025-04-03T13:07:45.308711Z",
          "shell.execute_reply": "2025-04-03T13:07:45.502948Z"
        },
        "trusted": true,
        "id": "TfGew6GoVf1R"
      },
      "outputs": [],
      "execution_count": null
    },
    {
      "cell_type": "code",
      "source": [
        "# since actual_price column has less than 5% null values we can apply complete case analysis"
      ],
      "metadata": {
        "execution": {
          "iopub.status.busy": "2025-04-03T13:07:45.505954Z",
          "iopub.execute_input": "2025-04-03T13:07:45.506262Z",
          "iopub.status.idle": "2025-04-03T13:07:45.510948Z",
          "shell.execute_reply.started": "2025-04-03T13:07:45.506236Z",
          "shell.execute_reply": "2025-04-03T13:07:45.509631Z"
        },
        "trusted": true,
        "id": "uwDlR6RJVf1R"
      },
      "outputs": [],
      "execution_count": null
    },
    {
      "cell_type": "code",
      "source": [
        "#columns with missing data <5%\n",
        "cols = [var for var in data.columns if data[var].isnull().mean()*100 < 5 and data[var].isnull().mean()*100 > 0]\n",
        "cols"
      ],
      "metadata": {
        "execution": {
          "iopub.status.busy": "2025-04-03T13:07:45.51231Z",
          "iopub.execute_input": "2025-04-03T13:07:45.512797Z",
          "iopub.status.idle": "2025-04-03T13:07:45.810204Z",
          "shell.execute_reply.started": "2025-04-03T13:07:45.512762Z",
          "shell.execute_reply": "2025-04-03T13:07:45.809223Z"
        },
        "trusted": true,
        "id": "mCP7AR0VVf1R"
      },
      "outputs": [],
      "execution_count": null
    },
    {
      "cell_type": "code",
      "source": [
        "data.dropna(subset=cols, inplace=True)"
      ],
      "metadata": {
        "execution": {
          "iopub.status.busy": "2025-04-03T13:07:45.811446Z",
          "iopub.execute_input": "2025-04-03T13:07:45.811751Z",
          "iopub.status.idle": "2025-04-03T13:07:45.89943Z",
          "shell.execute_reply.started": "2025-04-03T13:07:45.811727Z",
          "shell.execute_reply": "2025-04-03T13:07:45.89812Z"
        },
        "trusted": true,
        "id": "7oqN98WYVf1R"
      },
      "outputs": [],
      "execution_count": null
    },
    {
      "cell_type": "code",
      "source": [
        "data.shape"
      ],
      "metadata": {
        "execution": {
          "iopub.status.busy": "2025-04-03T13:07:45.901065Z",
          "iopub.execute_input": "2025-04-03T13:07:45.901527Z",
          "iopub.status.idle": "2025-04-03T13:07:45.9097Z",
          "shell.execute_reply.started": "2025-04-03T13:07:45.901488Z",
          "shell.execute_reply": "2025-04-03T13:07:45.908314Z"
        },
        "trusted": true,
        "id": "S08kGduPVf1R"
      },
      "outputs": [],
      "execution_count": null
    },
    {
      "cell_type": "code",
      "source": [
        "data['ratings'].shape"
      ],
      "metadata": {
        "execution": {
          "iopub.status.busy": "2025-04-03T13:07:45.911021Z",
          "iopub.execute_input": "2025-04-03T13:07:45.911344Z",
          "iopub.status.idle": "2025-04-03T13:07:45.926938Z",
          "shell.execute_reply.started": "2025-04-03T13:07:45.911316Z",
          "shell.execute_reply": "2025-04-03T13:07:45.925771Z"
        },
        "trusted": true,
        "id": "kmGFe7pRVf1R"
      },
      "outputs": [],
      "execution_count": null
    },
    {
      "cell_type": "code",
      "source": [
        "data.dtypes"
      ],
      "metadata": {
        "execution": {
          "iopub.status.busy": "2025-04-03T13:07:45.928119Z",
          "iopub.execute_input": "2025-04-03T13:07:45.928441Z",
          "iopub.status.idle": "2025-04-03T13:07:45.946542Z",
          "shell.execute_reply.started": "2025-04-03T13:07:45.928406Z",
          "shell.execute_reply": "2025-04-03T13:07:45.945314Z"
        },
        "trusted": true,
        "id": "a-xHoDU5Vf1R"
      },
      "outputs": [],
      "execution_count": null
    },
    {
      "cell_type": "code",
      "source": [
        "# clearly apart from name, main_catefory, sub_category, rest all columns should be numerical"
      ],
      "metadata": {
        "execution": {
          "iopub.status.busy": "2025-04-03T13:07:45.947984Z",
          "iopub.execute_input": "2025-04-03T13:07:45.948317Z",
          "iopub.status.idle": "2025-04-03T13:07:45.962301Z",
          "shell.execute_reply.started": "2025-04-03T13:07:45.94829Z",
          "shell.execute_reply": "2025-04-03T13:07:45.961029Z"
        },
        "trusted": true,
        "id": "4de6hSh6Vf1R"
      },
      "outputs": [],
      "execution_count": null
    },
    {
      "cell_type": "markdown",
      "source": [
        "# Preprocessing all columns"
      ],
      "metadata": {
        "_kg_hide-input": true,
        "_kg_hide-output": true,
        "id": "dYjSZOd7Vf1R"
      }
    },
    {
      "cell_type": "markdown",
      "source": [
        "\n",
        "  <div style=\"background-color: #e7f3fe;\n",
        "            padding: 20px;\n",
        "            font: bold 18px Arial;\n",
        "            color: #31708f;\n",
        "            border: 2px solid #bce8f1;\n",
        "            border-radius: 8px;\">\n",
        "Preprocessing rating column\n",
        "</div>"
      ],
      "metadata": {
        "id": "JvuePDb1Vf1S"
      }
    },
    {
      "cell_type": "code",
      "source": [
        "data['ratings'].value_counts()"
      ],
      "metadata": {
        "scrolled": true,
        "execution": {
          "iopub.status.busy": "2025-04-03T13:07:45.963751Z",
          "iopub.execute_input": "2025-04-03T13:07:45.964203Z",
          "iopub.status.idle": "2025-04-03T13:07:46.017882Z",
          "shell.execute_reply.started": "2025-04-03T13:07:45.964174Z",
          "shell.execute_reply": "2025-04-03T13:07:46.016573Z"
        },
        "trusted": true,
        "id": "R3Kl_JnvVf1S"
      },
      "outputs": [],
      "execution_count": null
    },
    {
      "cell_type": "code",
      "source": [
        "data['ratings'].unique()"
      ],
      "metadata": {
        "execution": {
          "iopub.status.busy": "2025-04-03T13:07:46.019337Z",
          "iopub.execute_input": "2025-04-03T13:07:46.01979Z",
          "iopub.status.idle": "2025-04-03T13:07:46.051661Z",
          "shell.execute_reply.started": "2025-04-03T13:07:46.019738Z",
          "shell.execute_reply": "2025-04-03T13:07:46.050395Z"
        },
        "trusted": true,
        "id": "j0fcEc93Vf1S"
      },
      "outputs": [],
      "execution_count": null
    },
    {
      "cell_type": "code",
      "source": [
        "pd.set_option('display.max_rows',None)\n",
        "data['no_of_ratings'].unique()"
      ],
      "metadata": {
        "execution": {
          "iopub.status.busy": "2025-04-03T13:07:46.052848Z",
          "iopub.execute_input": "2025-04-03T13:07:46.053156Z",
          "iopub.status.idle": "2025-04-03T13:07:46.092634Z",
          "shell.execute_reply.started": "2025-04-03T13:07:46.053132Z",
          "shell.execute_reply": "2025-04-03T13:07:46.09121Z"
        },
        "trusted": true,
        "id": "TRf76vKbVf1S"
      },
      "outputs": [],
      "execution_count": null
    },
    {
      "cell_type": "code",
      "source": [
        "# we can clearly see this rating column needs to be cleaned\n",
        "# coulumn having ratings Get, Free, ₹99 ,₹70, ₹2.99,₹68.99,₹65, ₹100  will be filled with rating nan"
      ],
      "metadata": {
        "execution": {
          "iopub.status.busy": "2025-04-03T13:07:46.094456Z",
          "iopub.execute_input": "2025-04-03T13:07:46.094889Z",
          "iopub.status.idle": "2025-04-03T13:07:46.104336Z",
          "shell.execute_reply.started": "2025-04-03T13:07:46.094834Z",
          "shell.execute_reply": "2025-04-03T13:07:46.103253Z"
        },
        "trusted": true,
        "id": "NLrvNlLaVf1S"
      },
      "outputs": [],
      "execution_count": null
    },
    {
      "cell_type": "code",
      "source": [
        "data['ratings']=data['ratings'].replace(to_replace=['Get','FREE','₹99','₹70','₹2.99','₹68.99','₹65','₹100'],value=np.nan)"
      ],
      "metadata": {
        "execution": {
          "iopub.status.busy": "2025-04-03T13:07:46.105929Z",
          "iopub.execute_input": "2025-04-03T13:07:46.106472Z",
          "iopub.status.idle": "2025-04-03T13:07:46.287567Z",
          "shell.execute_reply.started": "2025-04-03T13:07:46.106428Z",
          "shell.execute_reply": "2025-04-03T13:07:46.286221Z"
        },
        "trusted": true,
        "id": "oJoWKrujVf1S"
      },
      "outputs": [],
      "execution_count": null
    },
    {
      "cell_type": "code",
      "source": [
        "# remove # and run the following command\n",
        "#data['ratings'].value_counts()"
      ],
      "metadata": {
        "scrolled": true,
        "execution": {
          "iopub.status.busy": "2025-04-03T13:07:46.288979Z",
          "iopub.execute_input": "2025-04-03T13:07:46.289341Z",
          "iopub.status.idle": "2025-04-03T13:07:46.294674Z",
          "shell.execute_reply.started": "2025-04-03T13:07:46.289313Z",
          "shell.execute_reply": "2025-04-03T13:07:46.292978Z"
        },
        "trusted": true,
        "id": "YcKbe33WVf1S"
      },
      "outputs": [],
      "execution_count": null
    },
    {
      "cell_type": "code",
      "source": [
        "data['ratings']=data['ratings'].astype('float')"
      ],
      "metadata": {
        "execution": {
          "iopub.status.busy": "2025-04-03T13:07:46.296252Z",
          "iopub.execute_input": "2025-04-03T13:07:46.297461Z",
          "iopub.status.idle": "2025-04-03T13:07:46.36243Z",
          "shell.execute_reply.started": "2025-04-03T13:07:46.297401Z",
          "shell.execute_reply": "2025-04-03T13:07:46.361188Z"
        },
        "trusted": true,
        "id": "IxR2OX8yVf1S"
      },
      "outputs": [],
      "execution_count": null
    },
    {
      "cell_type": "code",
      "source": [
        "data['ratings']=data['ratings'].round(2)"
      ],
      "metadata": {
        "execution": {
          "iopub.status.busy": "2025-04-03T13:07:46.364101Z",
          "iopub.execute_input": "2025-04-03T13:07:46.36448Z",
          "iopub.status.idle": "2025-04-03T13:07:46.378966Z",
          "shell.execute_reply.started": "2025-04-03T13:07:46.36445Z",
          "shell.execute_reply": "2025-04-03T13:07:46.377481Z"
        },
        "trusted": true,
        "id": "EU0vSC9tVf1S"
      },
      "outputs": [],
      "execution_count": null
    },
    {
      "cell_type": "markdown",
      "source": [
        "\n",
        "\n",
        " <div style=\"background-color: #e7f3fe;\n",
        "            padding: 20px;\n",
        "            font: bold 18px Arial;\n",
        "            color: #31708f;\n",
        "            border: 2px solid #bce8f1;\n",
        "            border-radius: 8px;\">\n",
        "Preprocessing main_category column\n",
        "</div>"
      ],
      "metadata": {
        "id": "W7XibiMQVf1S"
      }
    },
    {
      "cell_type": "code",
      "source": [
        "data['main_category'].value_counts()"
      ],
      "metadata": {
        "execution": {
          "iopub.status.busy": "2025-04-03T13:07:46.380322Z",
          "iopub.execute_input": "2025-04-03T13:07:46.380706Z",
          "iopub.status.idle": "2025-04-03T13:07:46.433354Z",
          "shell.execute_reply.started": "2025-04-03T13:07:46.380679Z",
          "shell.execute_reply": "2025-04-03T13:07:46.432215Z"
        },
        "trusted": true,
        "id": "ir8bM70AVf1U"
      },
      "outputs": [],
      "execution_count": null
    },
    {
      "cell_type": "markdown",
      "source": [
        "\n",
        "\n",
        "  <div style=\"background-color: #e7f3fe;\n",
        "            padding: 20px;\n",
        "            font: bold 18px Arial;\n",
        "            color: #31708f;\n",
        "            border: 2px solid #bce8f1;\n",
        "            border-radius: 8px;\">\n",
        "Preprocessing sub_category column\n",
        "</div>"
      ],
      "metadata": {
        "id": "QnKkGrxLVf1V"
      }
    },
    {
      "cell_type": "code",
      "source": [
        "data['sub_category'].value_counts()"
      ],
      "metadata": {
        "execution": {
          "iopub.status.busy": "2025-04-03T13:07:46.434847Z",
          "iopub.execute_input": "2025-04-03T13:07:46.435231Z",
          "iopub.status.idle": "2025-04-03T13:07:46.480448Z",
          "shell.execute_reply.started": "2025-04-03T13:07:46.435203Z",
          "shell.execute_reply": "2025-04-03T13:07:46.479187Z"
        },
        "trusted": true,
        "id": "MXT9TW6-Vf1V"
      },
      "outputs": [],
      "execution_count": null
    },
    {
      "cell_type": "code",
      "source": [
        "# Adjust display options\n",
        "pd.set_option('display.max_rows', None)  # Show all rows for value_counts()\n",
        "\n",
        "# View all value counts for 'no_of_ratings'\n",
        "print(data['sub_category'].value_counts())"
      ],
      "metadata": {
        "scrolled": true,
        "execution": {
          "iopub.status.busy": "2025-04-03T13:07:46.481873Z",
          "iopub.execute_input": "2025-04-03T13:07:46.482357Z",
          "iopub.status.idle": "2025-04-03T13:07:46.524243Z",
          "shell.execute_reply.started": "2025-04-03T13:07:46.482322Z",
          "shell.execute_reply": "2025-04-03T13:07:46.522801Z"
        },
        "trusted": true,
        "id": "Anpd2FhyVf1V"
      },
      "outputs": [],
      "execution_count": null
    },
    {
      "cell_type": "code",
      "source": [
        "# Clean and normalize the subcategory column\n",
        "data['sub_category'] = data['sub_category'].str.strip().str.lower()"
      ],
      "metadata": {
        "execution": {
          "iopub.status.busy": "2025-04-03T13:07:46.52579Z",
          "iopub.execute_input": "2025-04-03T13:07:46.526212Z",
          "iopub.status.idle": "2025-04-03T13:07:46.711368Z",
          "shell.execute_reply.started": "2025-04-03T13:07:46.526185Z",
          "shell.execute_reply": "2025-04-03T13:07:46.7099Z"
        },
        "trusted": true,
        "id": "whErtgBQVf1V"
      },
      "outputs": [],
      "execution_count": null
    },
    {
      "cell_type": "code",
      "source": [
        "data['sub_category'].nunique()"
      ],
      "metadata": {
        "execution": {
          "iopub.status.busy": "2025-04-03T13:07:46.713169Z",
          "iopub.execute_input": "2025-04-03T13:07:46.713647Z",
          "iopub.status.idle": "2025-04-03T13:07:46.757419Z",
          "shell.execute_reply.started": "2025-04-03T13:07:46.71361Z",
          "shell.execute_reply": "2025-04-03T13:07:46.756097Z"
        },
        "trusted": true,
        "id": "A8gwdEm9Vf1V"
      },
      "outputs": [],
      "execution_count": null
    },
    {
      "cell_type": "code",
      "source": [
        "# we have so many subcategory so we are grouping this"
      ],
      "metadata": {
        "execution": {
          "iopub.status.busy": "2025-04-03T13:07:46.758838Z",
          "iopub.execute_input": "2025-04-03T13:07:46.759674Z",
          "iopub.status.idle": "2025-04-03T13:07:46.764808Z",
          "shell.execute_reply.started": "2025-04-03T13:07:46.759639Z",
          "shell.execute_reply": "2025-04-03T13:07:46.763358Z"
        },
        "trusted": true,
        "id": "_JGaKNyxVf1V"
      },
      "outputs": [],
      "execution_count": null
    },
    {
      "cell_type": "code",
      "source": [
        "counts=data['sub_category'].value_counts()\n",
        "uncommon_category=counts[counts<1300].index\n",
        "data['sub_category'] = np.where(data['sub_category'].isin(uncommon_category), 'uncommon mix category', data['sub_category'])\n"
      ],
      "metadata": {
        "execution": {
          "iopub.status.busy": "2025-04-03T13:07:46.766396Z",
          "iopub.execute_input": "2025-04-03T13:07:46.76678Z",
          "iopub.status.idle": "2025-04-03T13:07:46.875974Z",
          "shell.execute_reply.started": "2025-04-03T13:07:46.76675Z",
          "shell.execute_reply": "2025-04-03T13:07:46.874959Z"
        },
        "trusted": true,
        "id": "ChpvU9KJVf1V"
      },
      "outputs": [],
      "execution_count": null
    },
    {
      "cell_type": "code",
      "source": [
        "data['sub_category'] = np.where(data['sub_category'].str.contains('shoe|sandals|ballerinas|foot'), 'footwear', data['sub_category'])\n",
        "data['sub_category'] = np.where(data['sub_category'].str.contains('bag|backpack|sack'), 'bags', data['sub_category'])\n",
        "data['sub_category'] = np.where(data['sub_category'].str.contains('nightwear|lingerie|innerwear'), 'Innerwear', data['sub_category'])\n",
        "data['sub_category'] = np.where(data['sub_category'].str.contains('nightwear|camping|strength|lingerie|running|sports|football|cricket|badminton|fitness|diet|cycling|yoga'), 'Sports', data['sub_category'])\n",
        "data['sub_category'] = np.where(data['sub_category'].str.contains('toy|pram'), 'toys', data['sub_category'])\n",
        "data['sub_category'] = np.where(data['sub_category'].str.contains('speakers|headphones|appliances|televisions|system|electronics|camera|refrigerators|washing|machines|theater|air conditioners'), 'Electronics', data['sub_category'])\n",
        "data['sub_category'] = np.where(data['sub_category'].str.contains('home|kitchen|room|dine|house|indoor|furniture|sewing'), 'Home and Kitchen', data['sub_category'])\n",
        "data['sub_category'] = np.where(data['sub_category'].str.contains('kid|baby|diaper'), 'Kids', data['sub_category'])\n",
        "data['sub_category'] = np.where(data['sub_category'].str.contains('beauty|make-up|personal care'), 'Cosmetics', data['sub_category'])"
      ],
      "metadata": {
        "execution": {
          "iopub.status.busy": "2025-04-03T13:07:46.87721Z",
          "iopub.execute_input": "2025-04-03T13:07:46.877528Z",
          "iopub.status.idle": "2025-04-03T13:07:49.524041Z",
          "shell.execute_reply.started": "2025-04-03T13:07:46.877501Z",
          "shell.execute_reply": "2025-04-03T13:07:49.522527Z"
        },
        "trusted": true,
        "id": "9T66D8IiVf1V"
      },
      "outputs": [],
      "execution_count": null
    },
    {
      "cell_type": "code",
      "source": [
        "data['sub_category'].value_counts()"
      ],
      "metadata": {
        "execution": {
          "iopub.status.busy": "2025-04-03T13:07:49.525415Z",
          "iopub.execute_input": "2025-04-03T13:07:49.525731Z",
          "iopub.status.idle": "2025-04-03T13:07:49.568483Z",
          "shell.execute_reply.started": "2025-04-03T13:07:49.525705Z",
          "shell.execute_reply": "2025-04-03T13:07:49.567199Z"
        },
        "trusted": true,
        "id": "eFRX2NRZVf1W"
      },
      "outputs": [],
      "execution_count": null
    },
    {
      "cell_type": "code",
      "source": [
        "data['sub_category'].nunique()"
      ],
      "metadata": {
        "execution": {
          "iopub.status.busy": "2025-04-03T13:07:49.569771Z",
          "iopub.execute_input": "2025-04-03T13:07:49.570158Z",
          "iopub.status.idle": "2025-04-03T13:07:49.614934Z",
          "shell.execute_reply.started": "2025-04-03T13:07:49.570133Z",
          "shell.execute_reply": "2025-04-03T13:07:49.613766Z"
        },
        "trusted": true,
        "id": "Fp80lbV_Vf1W"
      },
      "outputs": [],
      "execution_count": null
    },
    {
      "cell_type": "markdown",
      "source": [
        "\n",
        "  <div style=\"background-color: #e7f3fe;\n",
        "            padding: 20px;\n",
        "            font: bold 18px Arial;\n",
        "            color: #31708f;\n",
        "            border: 2px solid #bce8f1;\n",
        "            border-radius: 8px;\">\n",
        "Preprocessing no_of_rating column\n",
        "</div>"
      ],
      "metadata": {
        "id": "hSD0tzzmVf1W"
      }
    },
    {
      "cell_type": "code",
      "source": [
        "# Adjust display options\n",
        "pd.set_option('display.max_rows', None)  # Show all rows for value_counts()\n",
        "\n",
        "# View all value counts for 'no_of_ratings'\n",
        "# data['no_of_ratings'].sort_values(ascending=True).value_counts()"
      ],
      "metadata": {
        "scrolled": true,
        "execution": {
          "iopub.status.busy": "2025-04-03T13:07:49.616179Z",
          "iopub.execute_input": "2025-04-03T13:07:49.616515Z",
          "iopub.status.idle": "2025-04-03T13:07:49.621407Z",
          "shell.execute_reply.started": "2025-04-03T13:07:49.616489Z",
          "shell.execute_reply": "2025-04-03T13:07:49.620297Z"
        },
        "trusted": true,
        "id": "n5iTnmu7Vf1W"
      },
      "outputs": [],
      "execution_count": null
    },
    {
      "cell_type": "code",
      "source": [
        "#  Remove Commas\n",
        "data['no_of_ratings'] = data['no_of_ratings'].str.replace(',', '', regex=False)\n",
        "\n",
        "#removing invalid strings that are coming in between\n",
        "data['no_of_ratings']=pd.to_numeric(data['no_of_ratings'],errors='coerce')"
      ],
      "metadata": {
        "execution": {
          "iopub.status.busy": "2025-04-03T13:07:49.622907Z",
          "iopub.execute_input": "2025-04-03T13:07:49.623347Z",
          "iopub.status.idle": "2025-04-03T13:07:49.938349Z",
          "shell.execute_reply.started": "2025-04-03T13:07:49.623307Z",
          "shell.execute_reply": "2025-04-03T13:07:49.937241Z"
        },
        "trusted": true,
        "id": "KDZJzz2fVf1W"
      },
      "outputs": [],
      "execution_count": null
    },
    {
      "cell_type": "code",
      "source": [
        "data['no_of_ratings'].skew()"
      ],
      "metadata": {
        "execution": {
          "iopub.status.busy": "2025-04-03T13:07:49.93973Z",
          "iopub.execute_input": "2025-04-03T13:07:49.940161Z",
          "iopub.status.idle": "2025-04-03T13:07:49.958309Z",
          "shell.execute_reply.started": "2025-04-03T13:07:49.940125Z",
          "shell.execute_reply": "2025-04-03T13:07:49.95696Z"
        },
        "trusted": true,
        "id": "PiP9MHSeVf1W"
      },
      "outputs": [],
      "execution_count": null
    },
    {
      "cell_type": "code",
      "source": [
        "# you can see that data is highly positively skewed"
      ],
      "metadata": {
        "execution": {
          "iopub.status.busy": "2025-04-03T13:07:49.959592Z",
          "iopub.execute_input": "2025-04-03T13:07:49.959989Z",
          "iopub.status.idle": "2025-04-03T13:07:49.964928Z",
          "shell.execute_reply.started": "2025-04-03T13:07:49.959952Z",
          "shell.execute_reply": "2025-04-03T13:07:49.96367Z"
        },
        "trusted": true,
        "id": "nJr8GT7oVf1W"
      },
      "outputs": [],
      "execution_count": null
    },
    {
      "cell_type": "markdown",
      "source": [
        "\n",
        " <div style=\"background-color: #e7f3fe;\n",
        "            padding: 20px;\n",
        "            font: bold 18px Arial;\n",
        "            color: #31708f;\n",
        "            border: 2px solid #bce8f1;\n",
        "            border-radius: 8px;\">\n",
        "Preprocessing discount price and actual price column\n",
        "</div>"
      ],
      "metadata": {
        "id": "146eF7K-Vf1W"
      }
    },
    {
      "cell_type": "code",
      "source": [
        "# remove # and run the following command\n",
        "#data['discount_price'].value_counts()"
      ],
      "metadata": {
        "scrolled": true,
        "execution": {
          "iopub.status.busy": "2025-04-03T13:07:49.96609Z",
          "iopub.execute_input": "2025-04-03T13:07:49.966406Z",
          "iopub.status.idle": "2025-04-03T13:07:49.979016Z",
          "shell.execute_reply.started": "2025-04-03T13:07:49.96635Z",
          "shell.execute_reply": "2025-04-03T13:07:49.977882Z"
        },
        "trusted": true,
        "id": "-45zUOuiVf1X"
      },
      "outputs": [],
      "execution_count": null
    },
    {
      "cell_type": "code",
      "source": [
        "# remove # and run the following command\n",
        "# data['actual_price'].value_counts()"
      ],
      "metadata": {
        "scrolled": true,
        "execution": {
          "iopub.status.busy": "2025-04-03T13:07:49.980593Z",
          "iopub.execute_input": "2025-04-03T13:07:49.980939Z",
          "iopub.status.idle": "2025-04-03T13:07:49.991577Z",
          "shell.execute_reply.started": "2025-04-03T13:07:49.980903Z",
          "shell.execute_reply": "2025-04-03T13:07:49.99044Z"
        },
        "trusted": true,
        "id": "CEyk7rZFVf1X"
      },
      "outputs": [],
      "execution_count": null
    },
    {
      "cell_type": "code",
      "source": [
        "# remove # and runthe following command\n",
        "# data['actual_price'].value_counts()"
      ],
      "metadata": {
        "scrolled": true,
        "execution": {
          "iopub.status.busy": "2025-04-03T13:07:49.992733Z",
          "iopub.execute_input": "2025-04-03T13:07:49.993037Z",
          "iopub.status.idle": "2025-04-03T13:07:50.004031Z",
          "shell.execute_reply.started": "2025-04-03T13:07:49.993012Z",
          "shell.execute_reply": "2025-04-03T13:07:50.002455Z"
        },
        "trusted": true,
        "id": "eMejNQqiVf1X"
      },
      "outputs": [],
      "execution_count": null
    },
    {
      "cell_type": "code",
      "source": [
        "#note the ₹ and , in both cols"
      ],
      "metadata": {
        "execution": {
          "iopub.status.busy": "2025-04-03T13:07:50.005284Z",
          "iopub.execute_input": "2025-04-03T13:07:50.005666Z",
          "iopub.status.idle": "2025-04-03T13:07:50.017329Z",
          "shell.execute_reply.started": "2025-04-03T13:07:50.005636Z",
          "shell.execute_reply": "2025-04-03T13:07:50.016035Z"
        },
        "trusted": true,
        "id": "TJWX6naVVf1X"
      },
      "outputs": [],
      "execution_count": null
    },
    {
      "cell_type": "code",
      "source": [
        "for col in ['actual_price','discount_price']:\n",
        "    data[col]=data[col].str[1:]\n",
        "    data[col]=data[col].str.replace(',','',regex=False)\n",
        "    data[col]=data[col].astype('float')\n",
        ""
      ],
      "metadata": {
        "execution": {
          "iopub.status.busy": "2025-04-03T13:07:50.018877Z",
          "iopub.execute_input": "2025-04-03T13:07:50.01936Z",
          "iopub.status.idle": "2025-04-03T13:07:50.723664Z",
          "shell.execute_reply.started": "2025-04-03T13:07:50.01932Z",
          "shell.execute_reply": "2025-04-03T13:07:50.722328Z"
        },
        "trusted": true,
        "id": "r9daopITVf1X"
      },
      "outputs": [],
      "execution_count": null
    },
    {
      "cell_type": "code",
      "source": [
        "data.dtypes"
      ],
      "metadata": {
        "execution": {
          "iopub.status.busy": "2025-04-03T13:07:50.724901Z",
          "iopub.execute_input": "2025-04-03T13:07:50.725198Z",
          "iopub.status.idle": "2025-04-03T13:07:50.733161Z",
          "shell.execute_reply.started": "2025-04-03T13:07:50.725175Z",
          "shell.execute_reply": "2025-04-03T13:07:50.732134Z"
        },
        "trusted": true,
        "id": "fKETH1r9Vf1X"
      },
      "outputs": [],
      "execution_count": null
    },
    {
      "cell_type": "markdown",
      "source": [
        "# Univariate Analysis"
      ],
      "metadata": {
        "id": "FtGv4FQvVf1Y"
      }
    },
    {
      "cell_type": "markdown",
      "source": [
        "<h3 style=\"background: linear-gradient(to right, #ff7e5f, #feb47b);\n",
        "           padding: 15px;\n",
        "           font: bold 26px Arial;\n",
        "           color: green;\n",
        "           border-radius: 8px;\">   \n",
        "Let's explore each column one by one for further processing.  \n",
        "</h3>\n",
        "<h3 style=\"background: linear-gradient(to right, #ff7e5f, #feb47b);\n",
        "           padding: 18px;\n",
        "           font: bold 22px Arial;\n",
        "           color: green;\n",
        "           border-radius: 8px;\">\n",
        "We'll see columns before and after imputation\n",
        "</h3>\n"
      ],
      "metadata": {
        "id": "y_eDsPINVf1Y"
      }
    },
    {
      "cell_type": "code",
      "source": [
        "#%missing data before imputation\n",
        "\n",
        "percent_miss=[]\n",
        "for col in data.columns:\n",
        "    percentage=(data[col].isnull().sum()/data.shape[0])*100\n",
        "    print('{}-  {}%'.format(col,np.round(percentage,4)))"
      ],
      "metadata": {
        "execution": {
          "iopub.status.busy": "2025-04-03T13:07:50.734524Z",
          "iopub.execute_input": "2025-04-03T13:07:50.734844Z",
          "iopub.status.idle": "2025-04-03T13:07:50.833726Z",
          "shell.execute_reply.started": "2025-04-03T13:07:50.734809Z",
          "shell.execute_reply": "2025-04-03T13:07:50.832522Z"
        },
        "trusted": true,
        "id": "E_wrHeGwVf1Y"
      },
      "outputs": [],
      "execution_count": null
    },
    {
      "cell_type": "code",
      "source": [
        "data.replace(['', 'NaN','None', 'missing'], np.nan, inplace=True)"
      ],
      "metadata": {
        "execution": {
          "iopub.status.busy": "2025-04-03T13:07:50.834962Z",
          "iopub.execute_input": "2025-04-03T13:07:50.835255Z",
          "iopub.status.idle": "2025-04-03T13:07:51.283879Z",
          "shell.execute_reply.started": "2025-04-03T13:07:50.835232Z",
          "shell.execute_reply": "2025-04-03T13:07:51.282694Z"
        },
        "trusted": true,
        "id": "b6xiEs5uVf1Y"
      },
      "outputs": [],
      "execution_count": null
    },
    {
      "cell_type": "code",
      "source": [
        "# Reset the index\n",
        "data = data.reset_index()"
      ],
      "metadata": {
        "execution": {
          "iopub.status.busy": "2025-04-03T13:07:51.285204Z",
          "iopub.execute_input": "2025-04-03T13:07:51.285649Z",
          "iopub.status.idle": "2025-04-03T13:07:51.319261Z",
          "shell.execute_reply.started": "2025-04-03T13:07:51.285609Z",
          "shell.execute_reply": "2025-04-03T13:07:51.318268Z"
        },
        "trusted": true,
        "id": "oWluMkQGVf1Y"
      },
      "outputs": [],
      "execution_count": null
    },
    {
      "cell_type": "code",
      "source": [
        "from scipy import stats"
      ],
      "metadata": {
        "execution": {
          "iopub.status.busy": "2025-04-03T13:07:51.320679Z",
          "iopub.execute_input": "2025-04-03T13:07:51.321103Z",
          "iopub.status.idle": "2025-04-03T13:07:51.326864Z",
          "shell.execute_reply.started": "2025-04-03T13:07:51.321055Z",
          "shell.execute_reply": "2025-04-03T13:07:51.325504Z"
        },
        "trusted": true,
        "id": "GTtK9CAPVf1Y"
      },
      "outputs": [],
      "execution_count": null
    },
    {
      "cell_type": "markdown",
      "source": [
        "# Function for individual column analysis- statistical analysis,kdeplot, qqplot"
      ],
      "metadata": {
        "_kg_hide-input": true,
        "_kg_hide-output": true,
        "id": "JSnOi7D9Vf1Y"
      }
    },
    {
      "cell_type": "markdown",
      "source": [
        "#### Creating Important Functions For Analysis"
      ],
      "metadata": {
        "id": "-z_G8Wg6Vf1Y"
      }
    },
    {
      "cell_type": "code",
      "source": [
        "# Function for individual column analysis- statistical analysis,kdeplot, qqplot\n",
        "\n",
        "def col_analysis(data,column):\n",
        "    print(f\"{column} statistics:\\n\", np.round(data[column].describe(),2))\n",
        "    print(\"-\"*50)\n",
        "\n",
        "    plt.figure(figsize=(12,10))\n",
        "\n",
        "    plt.subplot(2,2,1)\n",
        "    sns.kdeplot(data[column])\n",
        "    plt.title(f\"{column} \")\n",
        "\n",
        "    plt.subplot(2,2,2)\n",
        "    sns.kdeplot(data[column].notna())\n",
        "    plt.title(f\"{column} (non null)\")\n",
        "\n",
        "\n",
        "    plt.subplot(2,2,3)\n",
        "    stats.probplot(data[column], dist=\"norm\", plot=plt)\n",
        "    plt.title(f\"qqplot of {column}\")\n",
        "    plt.show()"
      ],
      "metadata": {
        "execution": {
          "iopub.status.busy": "2025-04-03T13:07:51.32817Z",
          "iopub.execute_input": "2025-04-03T13:07:51.328574Z",
          "iopub.status.idle": "2025-04-03T13:07:51.343067Z",
          "shell.execute_reply.started": "2025-04-03T13:07:51.328544Z",
          "shell.execute_reply": "2025-04-03T13:07:51.341885Z"
        },
        "trusted": true,
        "id": "fwBEClfoVf1Y"
      },
      "outputs": [],
      "execution_count": null
    },
    {
      "cell_type": "code",
      "source": [
        "# Function for individual column analysis before and after imputation- statistical anlysis,kdeplot, qqplot\n",
        "\n",
        "\n",
        "def col_analysis_before_after_imputation(data,column,data_imputed,col):\n",
        "    print(f\"{column} statistics before imputation:\\n\", np.round(data[column].describe(),2))\n",
        "\n",
        "    print(f\"{col} statistics after imputation:\\n\", np.round(data_imputed[col].describe(),2))\n",
        "    print(\"-\"*50)\n",
        "\n",
        "    print(f\"{column} skewness before imputation:\\n\", np.round(data[column].skew(),2))\n",
        "\n",
        "    print(f\"{col} skewness after imputation:\\n\", np.round(data_imputed[col].skew(),2))\n",
        "    print(\"-\"*50)\n",
        "\n",
        "\n",
        "    plt.figure(figsize=(24,18))\n",
        "\n",
        "    plt.subplot(2,2,1)\n",
        "    sns.kdeplot(data[column])\n",
        "    plt.title(f\"{column} before imputation \")\n",
        "\n",
        "\n",
        "    plt.subplot(2,2,2)\n",
        "    sns.kdeplot(data_imputed[col])\n",
        "    plt.title(f\"{column} after imputation\")\n",
        "\n",
        "    plt.subplot(2,2,3)\n",
        "    stats.probplot(data[column], dist=\"norm\", plot=plt)\n",
        "    plt.title(f\"qqplot of {column} before imputation\")\n",
        "\n",
        "\n",
        "    plt.subplot(2,2,4)\n",
        "    stats.probplot(data_imputed[col], dist=\"norm\", plot=plt)\n",
        "    plt.title(f\"qqplot of {column} after imputation\")\n",
        "    plt.show()"
      ],
      "metadata": {
        "execution": {
          "iopub.status.busy": "2025-04-03T13:07:51.344334Z",
          "iopub.execute_input": "2025-04-03T13:07:51.344709Z",
          "iopub.status.idle": "2025-04-03T13:07:51.357254Z",
          "shell.execute_reply.started": "2025-04-03T13:07:51.344672Z",
          "shell.execute_reply": "2025-04-03T13:07:51.35609Z"
        },
        "trusted": true,
        "id": "MqJHQdFGVf1Y"
      },
      "outputs": [],
      "execution_count": null
    },
    {
      "cell_type": "code",
      "source": [
        "# Function to apply all strategies to a column\n",
        "\n",
        "from sklearn.experimental import enable_iterative_imputer\n",
        "from sklearn.impute import IterativeImputer,SimpleImputer\n",
        "\n",
        "\n",
        "def apply_all_strategies(data, column,data_imputed):\n",
        "\n",
        "    print(\"\\n\\n\\n\\n\\n\",\"--\"*20,\"1) APPLYING ITERATIVE IMPUTER\",\"--\"*20,\"\\n\\n\\n\\n\\n\")\n",
        "    data = data.reset_index()\n",
        "    imputer = IterativeImputer(max_iter=20, random_state=0)\n",
        "    # Fit and transform the data and flatten the result\n",
        "    imputed_data = imputer.fit_transform(data[[column]]).flatten()\n",
        "    data_imputed[f'{column}_itr_repl'] = imputed_data\n",
        "    col_analysis_before_after_imputation(data, column, data_imputed, f'{column}_itr_repl')\n",
        "\n",
        "\n",
        "\n",
        "    print(\"\\n\\n\\n\\n\\n\",\"--\"*25,\"2a)  FILLING BY MEAN(SIMPLE IMPUTER METHOD)\",\"--\"*25,\"\\n\\n\\n\\n\\n\")\n",
        "    imputer_mean = SimpleImputer(strategy='mean')\n",
        "    imputer_mean.fit(data[[column]])\n",
        "    print(\"Mean is\", imputer_mean.statistics_[0])\n",
        "    data_imputed[f'{column}_SI_mean_repl'] = imputer_mean.transform(data[[column]]).flatten()\n",
        "    col_analysis_before_after_imputation(data, column, data_imputed, f'{column}_SI_mean_repl')\n",
        "\n",
        "\n",
        "    print(\"\\n\\n\\n\\n\\n\",\"--\"*25,\"2b) FILLING BY MEAN(fillna METHOD)\",\"--\"*25,\"\\n\\n\\n\\n\\n\")\n",
        "\n",
        "    data_imputed[f'{column}_mean_repl']=data[column].fillna(np.mean(data[column]))\n",
        "    col_analysis_before_after_imputation(data,column,data_imputed,f'{column}_mean_repl')\n",
        "\n",
        "\n",
        "\n",
        "    print(\"\\n\\n\\n\\n\\n\",\"--\"*25,\"3a) FILLING BY MEDIAN (SIMPLE IMPUTER METHOD)\",\"--\"*25,\"\\n\\n\\n\\n\\n\")\n",
        "\n",
        "    imputer_median = SimpleImputer(strategy='median')\n",
        "    imputer_median.fit(data[[column]])\n",
        "    print(\"Median is\", imputer_median.statistics_[0])\n",
        "    data_imputed[f'{column}_SI_median_repl'] = imputer_median.transform(data[[column]]).flatten()\n",
        "    col_analysis_before_after_imputation(data, column, data_imputed, f'{column}_SI_median_repl')\n",
        "\n",
        "    print(\"\\n\\n\\n\\n\\n\",\"--\"*25,\"3b) FILLING BY MEDIAN (fillna METHOD)\",\"--\"*25,\"\\n\\n\\n\\n\\n\")\n",
        "\n",
        "    data_imputed[f'{column}_median_repl']=data[column].fillna(np.nanmedian(data[column]))\n",
        "    col_analysis_before_after_imputation(data,column,data_imputed,f'{column}_median_repl')\n",
        "\n",
        "\n",
        "    print(\"\\n\\n\\n\\n\\n\",\"--\"*20,\"4) FORWARD FILLING METHOD\",\"--\"*20,\"\\n\\n\\n\\n\\n\")\n",
        "\n",
        "    data_imputed[f'{column}_ffill_repl'] = data[column].ffill()\n",
        "    col_analysis_before_after_imputation(data, column, data_imputed, f'{column}_ffill_repl')\n",
        "\n",
        "\n",
        "\n",
        "\n",
        "    print(\"\\n\\n\\n\\n\\n\",\"--\"*20,\"5) BACKWARD FILLING METHOD\",\"--\"*20,\"\\n\\n\\n\\n\\n\")\n",
        "\n",
        "    data_imputed[f'{column}_bfill_repl'] = data[column].bfill()\n",
        "    col_analysis_before_after_imputation(data, column, data_imputed, f'{column}_bfill_repl')\n",
        "\n"
      ],
      "metadata": {
        "execution": {
          "iopub.status.busy": "2025-04-03T13:07:51.358885Z",
          "iopub.execute_input": "2025-04-03T13:07:51.359243Z",
          "iopub.status.idle": "2025-04-03T13:07:51.382565Z",
          "shell.execute_reply.started": "2025-04-03T13:07:51.359213Z",
          "shell.execute_reply": "2025-04-03T13:07:51.38098Z"
        },
        "trusted": true,
        "id": "v58GWGSCVf1Y"
      },
      "outputs": [],
      "execution_count": null
    },
    {
      "cell_type": "code",
      "source": [
        "data_imputed=pd.DataFrame()"
      ],
      "metadata": {
        "execution": {
          "iopub.status.busy": "2025-04-03T13:07:51.384006Z",
          "iopub.execute_input": "2025-04-03T13:07:51.384452Z",
          "iopub.status.idle": "2025-04-03T13:07:51.406336Z",
          "shell.execute_reply.started": "2025-04-03T13:07:51.384412Z",
          "shell.execute_reply": "2025-04-03T13:07:51.405227Z"
        },
        "trusted": true,
        "id": "wD_HJ8idVf1Z"
      },
      "outputs": [],
      "execution_count": null
    },
    {
      "cell_type": "markdown",
      "source": [
        "# Handling Null Values- Univariate Approach"
      ],
      "metadata": {
        "_kg_hide-input": true,
        "_kg_hide-output": true,
        "id": "w_Un6fFHVf1Z"
      }
    },
    {
      "cell_type": "markdown",
      "source": [
        "\n",
        "<h3 style=\"background: linear-gradient(to right, #ff6666, #feb47b);\n",
        "           padding: 15px;\n",
        "           font: bold 22px Arial;\n",
        "           color: green;\n",
        "           border-radius: 8px;\">\n",
        "Now, let's handle null values by univariate approach.\n",
        "    \n",
        "</h3>\n",
        "\n",
        "\n",
        "\n",
        "### <div style=\"background-color: #F2EDD7  \">  We'll apply different strategies on each column one by one and will see which strategy will bring least change in statistics. </i></div>"
      ],
      "metadata": {
        "id": "uUmTk4-VVf1Z"
      }
    },
    {
      "cell_type": "markdown",
      "source": [
        ""
      ],
      "metadata": {
        "id": "ZDbnwQ4_Vf1Z"
      }
    },
    {
      "cell_type": "markdown",
      "source": [
        "\n",
        "<div style=\"background-color: #f0f0f0;\n",
        "            padding: 20px;\n",
        "            font: italic 18px Georgia;\n",
        "            color: #333;\n",
        "            border-left: 10px solid gray;\">\n",
        "We'll find missing strategy for ratings column\n",
        "</div>\n"
      ],
      "metadata": {
        "id": "L2vrx_rRVf1Z"
      }
    },
    {
      "cell_type": "markdown",
      "source": [
        "#### -> Before Imputation"
      ],
      "metadata": {
        "id": "AsPkmKY4Vf1Z"
      }
    },
    {
      "cell_type": "code",
      "source": [
        "col_analysis(data,'ratings')"
      ],
      "metadata": {
        "scrolled": true,
        "execution": {
          "iopub.status.busy": "2025-04-03T13:07:51.40805Z",
          "iopub.execute_input": "2025-04-03T13:07:51.408439Z",
          "iopub.status.idle": "2025-04-03T13:07:57.211591Z",
          "shell.execute_reply.started": "2025-04-03T13:07:51.408404Z",
          "shell.execute_reply": "2025-04-03T13:07:57.210444Z"
        },
        "trusted": true,
        "id": "bgYHmVAmVf1Z"
      },
      "outputs": [],
      "execution_count": null
    },
    {
      "cell_type": "markdown",
      "source": [
        "#### -> After Imputation"
      ],
      "metadata": {
        "id": "Q_lAceJgVf1Z"
      }
    },
    {
      "cell_type": "code",
      "source": [
        "apply_all_strategies(data,'ratings',data_imputed)"
      ],
      "metadata": {
        "scrolled": true,
        "execution": {
          "iopub.status.busy": "2025-04-03T13:07:57.213138Z",
          "iopub.execute_input": "2025-04-03T13:07:57.213567Z",
          "iopub.status.idle": "2025-04-03T13:08:52.352639Z",
          "shell.execute_reply.started": "2025-04-03T13:07:57.213525Z",
          "shell.execute_reply": "2025-04-03T13:08:52.351311Z"
        },
        "trusted": true,
        "id": "dA9kn7LeVf1Z"
      },
      "outputs": [],
      "execution_count": null
    },
    {
      "cell_type": "markdown",
      "source": [
        ">\n",
        "<font color=\"grey\">\n",
        "<h4>\n",
        "\n",
        "From above we can clearly see that it is 'forward fill' strategy that is bringing least change in statistics and characteristics of our data.  \n",
        "Therefore, we impute nulls in rating column by 'ffill' method.\n",
        "\n",
        "</h4>\n",
        "</font>\n"
      ],
      "metadata": {
        "id": "GeB2j_DuVf1Z"
      }
    },
    {
      "cell_type": "markdown",
      "source": [
        ""
      ],
      "metadata": {
        "id": "7SiCHK6hVf1Z"
      }
    },
    {
      "cell_type": "markdown",
      "source": [
        "\n",
        "<div style=\"background-color: #f0f0f0;\n",
        "            padding: 20px;\n",
        "            font: italic 18px Georgia;\n",
        "            color: #333;\n",
        "            border-left: 10px solid gray;\">\n",
        "We'll find missing strategy for no_of_rating column\n",
        "</div>"
      ],
      "metadata": {
        "id": "CzwN_0NgVf1Z"
      }
    },
    {
      "cell_type": "markdown",
      "source": [
        "#### -> Before Imputation"
      ],
      "metadata": {
        "id": "TkEV-xb7Vf1Z"
      }
    },
    {
      "cell_type": "code",
      "source": [
        "col_analysis(data,'no_of_ratings')"
      ],
      "metadata": {
        "scrolled": true,
        "execution": {
          "iopub.status.busy": "2025-04-03T13:08:52.354107Z",
          "iopub.execute_input": "2025-04-03T13:08:52.354469Z",
          "iopub.status.idle": "2025-04-03T13:08:58.179207Z",
          "shell.execute_reply.started": "2025-04-03T13:08:52.354438Z",
          "shell.execute_reply": "2025-04-03T13:08:58.178013Z"
        },
        "trusted": true,
        "id": "nWlFYsgiVf1Z"
      },
      "outputs": [],
      "execution_count": null
    },
    {
      "cell_type": "markdown",
      "source": [
        "#### -> After Imputation"
      ],
      "metadata": {
        "id": "1ghkLgdoVf1Z"
      }
    },
    {
      "cell_type": "code",
      "source": [
        "apply_all_strategies(data, 'no_of_ratings',data_imputed)"
      ],
      "metadata": {
        "scrolled": true,
        "execution": {
          "iopub.status.busy": "2025-04-03T13:08:58.180427Z",
          "iopub.execute_input": "2025-04-03T13:08:58.180746Z",
          "iopub.status.idle": "2025-04-03T13:09:53.077216Z",
          "shell.execute_reply.started": "2025-04-03T13:08:58.180721Z",
          "shell.execute_reply": "2025-04-03T13:09:53.075843Z"
        },
        "trusted": true,
        "id": "z94yh3R4Vf1a"
      },
      "outputs": [],
      "execution_count": null
    },
    {
      "cell_type": "markdown",
      "source": [
        ""
      ],
      "metadata": {
        "id": "EZrtSODuVf1a"
      }
    },
    {
      "cell_type": "markdown",
      "source": [
        ""
      ],
      "metadata": {
        "id": "FeIV18uGVf1a"
      }
    },
    {
      "cell_type": "markdown",
      "source": [
        ">\n",
        "<font color=\"grey\">\n",
        "<h4>\n",
        "\n",
        "From above we can clearly see that it is 'forward fill' strategy that is bringing least change in statistics and characteristics of our data.  \n",
        "Therefore, we impute nulls in no_of_ratings column by 'ffill' method.\n",
        "\n",
        "</h4>\n",
        "</font>\n"
      ],
      "metadata": {
        "id": "5uC7e_IfVf1a"
      }
    },
    {
      "cell_type": "markdown",
      "source": [
        ""
      ],
      "metadata": {
        "id": "TtuVe2uGVf1a"
      }
    },
    {
      "cell_type": "markdown",
      "source": [
        "\n",
        "<div style=\"background-color: #f0f0f0;\n",
        "            padding: 20px;\n",
        "            font: italic 18px Georgia;\n",
        "            color: #333;\n",
        "            border-left: 10px solid gray;\">\n",
        "We'll find missing strategy of discount_price column\n",
        "</div>"
      ],
      "metadata": {
        "id": "3Sps0kiZVf1a"
      }
    },
    {
      "cell_type": "markdown",
      "source": [
        "#### -> Before Imputation"
      ],
      "metadata": {
        "id": "KkDJhhGgVf1a"
      }
    },
    {
      "cell_type": "code",
      "source": [
        "col_analysis(data,'discount_price')"
      ],
      "metadata": {
        "scrolled": true,
        "execution": {
          "iopub.status.busy": "2025-04-03T13:09:53.078483Z",
          "iopub.execute_input": "2025-04-03T13:09:53.078791Z",
          "iopub.status.idle": "2025-04-03T13:10:00.228229Z",
          "shell.execute_reply.started": "2025-04-03T13:09:53.078764Z",
          "shell.execute_reply": "2025-04-03T13:10:00.225342Z"
        },
        "trusted": true,
        "id": "STD4mpmBVf1a"
      },
      "outputs": [],
      "execution_count": null
    },
    {
      "cell_type": "markdown",
      "source": [
        "#### ->After Imputation"
      ],
      "metadata": {
        "id": "w3P0VQMhVf1a"
      }
    },
    {
      "cell_type": "code",
      "source": [
        "apply_all_strategies(data, 'discount_price',data_imputed)"
      ],
      "metadata": {
        "scrolled": true,
        "execution": {
          "iopub.status.busy": "2025-04-03T13:10:00.230443Z",
          "iopub.execute_input": "2025-04-03T13:10:00.231163Z",
          "iopub.status.idle": "2025-04-03T13:11:03.899838Z",
          "shell.execute_reply.started": "2025-04-03T13:10:00.231113Z",
          "shell.execute_reply": "2025-04-03T13:11:03.898718Z"
        },
        "trusted": true,
        "id": "NiqC3easVf1a"
      },
      "outputs": [],
      "execution_count": null
    },
    {
      "cell_type": "markdown",
      "source": [
        ""
      ],
      "metadata": {
        "id": "pI1YNfr3Vf1a"
      }
    },
    {
      "cell_type": "markdown",
      "source": [
        "  "
      ],
      "metadata": {
        "id": "4YqkcmD5Vf1a"
      }
    },
    {
      "cell_type": "markdown",
      "source": [
        "  "
      ],
      "metadata": {
        "id": "zkfK_OXzVf1a"
      }
    },
    {
      "cell_type": "markdown",
      "source": [
        ">\n",
        "<font color=\"grey\">\n",
        "<h4>\n",
        "\n",
        "From above we can clearly see that it is 'forward fill' strategy that is bringing least change in statistics and characteristics of our data.  \n",
        "Therefore, we impute nulls in discount_price column by 'ffill' method.\n",
        "\n",
        "</h4>\n",
        "</font>\n"
      ],
      "metadata": {
        "id": "teHwYoKLVf1a"
      }
    },
    {
      "cell_type": "markdown",
      "source": [
        "# Handling Null Values- MultiVariate Approach"
      ],
      "metadata": {
        "_kg_hide-input": true,
        "_kg_hide-output": true,
        "id": "CqKjMjyfVf1a"
      }
    },
    {
      "cell_type": "markdown",
      "source": [
        "\n",
        "\n",
        "<h3 style=\"background: linear-gradient(to right, #ff6666, #feb47b);\n",
        "           padding: 15px;\n",
        "           font: bold 22px Arial;\n",
        "           color:  green;\n",
        "           border-radius: 8px;\">\n",
        "    \n",
        " Now, let's handle null values by multivariate approach.\n",
        "</h3>\n",
        "\n"
      ],
      "metadata": {
        "id": "621Ph-yqVf1a"
      }
    },
    {
      "cell_type": "code",
      "source": [
        "import pandas as pd\n",
        "import numpy as np\n",
        "from sklearn.experimental import enable_iterative_imputer\n",
        "from sklearn.impute import IterativeImputer\n",
        "# Assuming 'data' is your DataFrame\n",
        "data_missing = data[['ratings', 'no_of_ratings', 'discount_price']].copy()\n",
        "data_missing.sample(10)\n",
        "\n",
        "\n",
        "data_imputed_itr_method = data_missing.copy()\n",
        "data_imputed_mean = data_missing.copy()\n",
        "data_imputed_median = data_missing.copy()\n",
        "data_imputed_ffill = data_missing.copy()\n",
        "data_imputed_bfill = data_missing.copy()\n",
        "\n",
        "print(\"\\n\\n\", \"--\" * 20, \"Actual Description of dataset\", \"--\" * 20, \"\\n\\n\")\n",
        "print(np.round(data_missing.describe(), 2))\n",
        "\n",
        "print(\"\\n\\n\", \"--\" * 15, \"FILLING BY MEAN of respective columns\", \"--\" * 15, \"\\n\\n\")\n",
        "for col in data_imputed_mean.columns:\n",
        "    data_imputed_mean[col] = data_imputed_mean[col].fillna(data_imputed_mean[col].mean())\n",
        "print(np.round(data_imputed_mean.describe(), 2))\n",
        "\n",
        "print(\"\\n\\n\", \"--\" * 20, \"APPLYING ITERATIVE IMPUTER\", \"--\" * 20, \"\\n\\n\")\n",
        "imputer = IterativeImputer(max_iter=5, random_state=0)\n",
        "data_imputed_itr_method = imputer.fit_transform(data_imputed_itr_method )\n",
        "data_imputed_itr_method = pd.DataFrame(data_imputed_itr_method, columns=data_missing.columns)\n",
        "print(np.round(data_imputed_itr_method.describe(), 2))\n",
        "\n",
        "print(\"\\n\\n\", \"--\" * 15, \"FILLING BY MEDIAN of respective columns\", \"--\" * 15, \"\\n\\n\")\n",
        "for col in data_imputed_median.columns:\n",
        "    data_imputed_median[col] = data_imputed_median[col].fillna(data_imputed_median[col].median())\n",
        "print(np.round(data_imputed_median.describe(), 2))\n",
        "\n",
        "print(\"\\n\\n\", \"--\" * 20, \"FORWARD FILLING METHOD\", \"--\" * 20, \"\\n\\n\")\n",
        "data_imputed_ffill = data_imputed_ffill.ffill().bfill()\n",
        "print(np.round(data_imputed_ffill.describe(), 2))\n",
        "\n",
        "print(\"\\n\\n\", \"--\" * 20, \"Backward FILLING METHOD\", \"--\" * 20, \"\\n\\n\")\n",
        "data_imputed_bfill = data_imputed_bfill.bfill().ffill()\n",
        "print(np.round(data_imputed_bfill.describe(), 2))"
      ],
      "metadata": {
        "execution": {
          "iopub.status.busy": "2025-04-03T13:11:03.901255Z",
          "iopub.execute_input": "2025-04-03T13:11:03.901586Z",
          "iopub.status.idle": "2025-04-03T13:11:06.328125Z",
          "shell.execute_reply.started": "2025-04-03T13:11:03.901559Z",
          "shell.execute_reply": "2025-04-03T13:11:06.326728Z"
        },
        "trusted": true,
        "id": "qhf-tz1rVf1a"
      },
      "outputs": [],
      "execution_count": null
    },
    {
      "cell_type": "raw",
      "source": [
        "from sklearn.impute import KNNImputer\n",
        "\n",
        "imputer = KNNImputer(missing_values=np.nan,n_neighbors=2,metric='nan_euclidean')\n",
        "\n",
        "#Fit and transform the data\n",
        "data_imputed['rating_knn_repl'] = imputer.fit_transform(data[['ratings']])\n"
      ],
      "metadata": {
        "id": "yxqp0W3LVf1a"
      }
    },
    {
      "cell_type": "raw",
      "source": [
        "col_analysis_before_after_imputation(data,'ratings',data_imputed,'rating')"
      ],
      "metadata": {
        "id": "U0LEVRayVf1a"
      }
    },
    {
      "cell_type": "raw",
      "source": [
        "Clearly we have so many records thus, knn imputer is taking too much time to run, therefore avoiding this."
      ],
      "metadata": {
        "id": "mc1iiXZAVf1b"
      }
    },
    {
      "cell_type": "markdown",
      "source": [
        "<font color=\"brown\">\n",
        "<h4>\n",
        "The best strategy seems to be ffill.\n",
        "</font>\n",
        "</h4>\n"
      ],
      "metadata": {
        "id": "TeLXXIDMVf1b"
      }
    },
    {
      "cell_type": "markdown",
      "source": [
        "\n",
        "\n",
        "</h4>\n",
        "</font>\n",
        "\n",
        "<div style=\"background-color:  #e6ffe6;\n",
        "            padding: 20px;\n",
        "            font: 18px Arial;\n",
        "            color: #333;\n",
        "            border: 1px solid #ddd;\n",
        "            border-radius: 12px;\n",
        "            box-shadow: 2px 2px 8px #ccc;\">\n",
        "From above we can clearly see that it is 'forward fill' strategy of multivariate approach that is bringing least change in statistics and characteristics of our data.  \n",
        "Therefore, we impute nulls in data by 'ffill' method.\n",
        "\n",
        "</div>\n"
      ],
      "metadata": {
        "id": "nInzNo6OVf1b"
      }
    },
    {
      "cell_type": "markdown",
      "source": [
        "\n",
        "<button style=\"background: linear-gradient(to right, #00c6ff, #0072ff);\n",
        "               padding: 13px 20px;\n",
        "               font: bold 26px Arial;\n",
        "               color: black;\n",
        "               border: none;\n",
        "               border-radius: 8px; \">\n",
        "Lets impute missing values in our column by appropriate strategy found so far.\n",
        "    \n",
        "</button>"
      ],
      "metadata": {
        "id": "KFFVQGRwVf1b"
      }
    },
    {
      "cell_type": "markdown",
      "source": [
        "# Final Imputation of nulls with best strategy"
      ],
      "metadata": {
        "_kg_hide-input": true,
        "_kg_hide-output": true,
        "id": "BfPkaYIcVf1b"
      }
    },
    {
      "cell_type": "code",
      "source": [
        "\n",
        "# Update the original 'data' DataFrame with the filled values\n",
        "data['no_of_ratings'] = data_imputed_ffill['no_of_ratings']\n",
        "data['ratings'] = data_imputed_ffill['ratings']\n",
        "data['discount_price'] = data_imputed_ffill['discount_price']\n"
      ],
      "metadata": {
        "execution": {
          "iopub.status.busy": "2025-04-03T13:11:06.330136Z",
          "iopub.execute_input": "2025-04-03T13:11:06.330738Z",
          "iopub.status.idle": "2025-04-03T13:11:06.345011Z",
          "shell.execute_reply.started": "2025-04-03T13:11:06.330681Z",
          "shell.execute_reply": "2025-04-03T13:11:06.343423Z"
        },
        "trusted": true,
        "id": "dqlIQVCSVf1b"
      },
      "outputs": [],
      "execution_count": null
    },
    {
      "cell_type": "code",
      "source": [
        "data.isnull().sum()"
      ],
      "metadata": {
        "execution": {
          "iopub.status.busy": "2025-04-03T13:11:06.347103Z",
          "iopub.execute_input": "2025-04-03T13:11:06.347471Z",
          "iopub.status.idle": "2025-04-03T13:11:06.47392Z",
          "shell.execute_reply.started": "2025-04-03T13:11:06.347444Z",
          "shell.execute_reply": "2025-04-03T13:11:06.472504Z"
        },
        "trusted": true,
        "id": "SROWxRXpVf1b"
      },
      "outputs": [],
      "execution_count": null
    },
    {
      "cell_type": "code",
      "source": [
        "data=data.iloc[:,1:]"
      ],
      "metadata": {
        "execution": {
          "iopub.status.busy": "2025-04-03T13:11:06.475478Z",
          "iopub.execute_input": "2025-04-03T13:11:06.475886Z",
          "iopub.status.idle": "2025-04-03T13:11:06.522265Z",
          "shell.execute_reply.started": "2025-04-03T13:11:06.475855Z",
          "shell.execute_reply": "2025-04-03T13:11:06.520764Z"
        },
        "trusted": true,
        "id": "_m3qgOZYVf1b"
      },
      "outputs": [],
      "execution_count": null
    },
    {
      "cell_type": "markdown",
      "source": [
        "# Handling Outliers"
      ],
      "metadata": {
        "_kg_hide-input": true,
        "_kg_hide-output": true,
        "id": "OdwA2HWnVf1b"
      }
    },
    {
      "cell_type": "markdown",
      "source": [
        "\n",
        "<h3 style=\"background: linear-gradient(to right, #ff6666, #feb47b);\n",
        "           padding: 15px;\n",
        "           font: bold 22px Arial;\n",
        "           color: black;\n",
        "           border-radius: 8px;\">\n",
        "    \n",
        " Let's handle outliers now\n",
        "    \n",
        "</h3>"
      ],
      "metadata": {
        "id": "l-9J9DVRVf1b"
      }
    },
    {
      "cell_type": "code",
      "source": [
        "def handle_outlier(data,column):\n",
        "    sns.boxplot(data[column])\n",
        "    plt.title(\"outlier detection\")\n",
        "    plt.show()\n",
        "    q1=data[column].quantile(0.25)\n",
        "    q3=data[column].quantile(0.75)\n",
        "    iqr=q3-q1\n",
        "    upper_limit= q3+1.5*iqr\n",
        "    lower_limit=q1-1.5*iqr\n",
        "\n",
        "    data[column]=np.where(\n",
        "        data[column]>upper_limit, upper_limit, np.where(data[column]<lower_limit,lower_limit,data[column])\n",
        "    )\n",
        "\n",
        "    sns.boxplot(data[column])\n",
        "    plt.title(\"outliers removed\")\n",
        "    plt.show()"
      ],
      "metadata": {
        "execution": {
          "iopub.status.busy": "2025-04-03T13:11:06.523953Z",
          "iopub.execute_input": "2025-04-03T13:11:06.52431Z",
          "iopub.status.idle": "2025-04-03T13:11:06.533262Z",
          "shell.execute_reply.started": "2025-04-03T13:11:06.524281Z",
          "shell.execute_reply": "2025-04-03T13:11:06.531434Z"
        },
        "trusted": true,
        "id": "OnfKE5o4Vf1b"
      },
      "outputs": [],
      "execution_count": null
    },
    {
      "cell_type": "code",
      "source": [
        "handle_outlier(data,'ratings')"
      ],
      "metadata": {
        "execution": {
          "iopub.status.busy": "2025-04-03T13:11:06.5351Z",
          "iopub.execute_input": "2025-04-03T13:11:06.535546Z",
          "iopub.status.idle": "2025-04-03T13:11:07.101589Z",
          "shell.execute_reply.started": "2025-04-03T13:11:06.535515Z",
          "shell.execute_reply": "2025-04-03T13:11:07.099836Z"
        },
        "trusted": true,
        "id": "9uVv5uBwVf1b"
      },
      "outputs": [],
      "execution_count": null
    },
    {
      "cell_type": "code",
      "source": [
        "#handle_outlier(data,'no_of_ratings')"
      ],
      "metadata": {
        "execution": {
          "iopub.status.busy": "2025-04-03T13:11:07.102904Z",
          "iopub.execute_input": "2025-04-03T13:11:07.10325Z",
          "iopub.status.idle": "2025-04-03T13:11:07.108508Z",
          "shell.execute_reply.started": "2025-04-03T13:11:07.103222Z",
          "shell.execute_reply": "2025-04-03T13:11:07.107163Z"
        },
        "trusted": true,
        "id": "Dlj78NRMVf1b"
      },
      "outputs": [],
      "execution_count": null
    },
    {
      "cell_type": "code",
      "source": [
        "#handle_outlier(data,'discount_price')"
      ],
      "metadata": {
        "execution": {
          "iopub.status.busy": "2025-04-03T13:11:07.109676Z",
          "iopub.execute_input": "2025-04-03T13:11:07.110121Z",
          "iopub.status.idle": "2025-04-03T13:11:07.121514Z",
          "shell.execute_reply.started": "2025-04-03T13:11:07.11008Z",
          "shell.execute_reply": "2025-04-03T13:11:07.120265Z"
        },
        "trusted": true,
        "id": "g104WuOMVf1b"
      },
      "outputs": [],
      "execution_count": null
    },
    {
      "cell_type": "markdown",
      "source": [
        "##### Clearly 75% and max value for no_of_ratings  and discount_price has too much difference so we should not remove our outliers for these features.\n",
        "##### Moreover, outliers of these columns are important from analysis point of view."
      ],
      "metadata": {
        "id": "HLQ8mdbBVf1b"
      }
    },
    {
      "cell_type": "markdown",
      "source": [
        ""
      ],
      "metadata": {
        "id": "rUW0ieU6Vf1b"
      }
    },
    {
      "cell_type": "markdown",
      "source": [
        ""
      ],
      "metadata": {
        "id": "-d9xkGmSVf1b"
      }
    },
    {
      "cell_type": "markdown",
      "source": [
        "\n",
        "<div style=\"background-color: #fff3cd;\n",
        "            padding: 15px;\n",
        "            font: bold 28px Arial;\n",
        "            color: darkorange;\n",
        "            border: 2px solid orange;\n",
        "            border-radius: 8px;\">\n",
        "Our dataset is now ready for analysis. Let's jump into analytics and visualization part.\n",
        "</div>\n"
      ],
      "metadata": {
        "id": "vSKUIvEkVf1b"
      }
    },
    {
      "cell_type": "markdown",
      "source": [
        "# Descriptive Statistics"
      ],
      "metadata": {
        "_kg_hide-input": true,
        "_kg_hide-output": true,
        "id": "oGtRqVi_Vf1b"
      }
    },
    {
      "cell_type": "markdown",
      "source": [
        "\n",
        "<h3 style = \"background-color: #111;\n",
        "             padding: 15px;\n",
        "             font: bold 22px arial;\n",
        "             color: lightgreen;\n",
        "             border: 2px solid lime;\n",
        "             border-radius: 8px\">\n",
        " 1) Descriptive Statistics 📉📊📈📘</h3>"
      ],
      "metadata": {
        "id": "aPOPpoOsVf1c"
      }
    },
    {
      "cell_type": "code",
      "source": [
        "np.round(data.describe(),2)"
      ],
      "metadata": {
        "execution": {
          "iopub.status.busy": "2025-04-03T13:11:07.122959Z",
          "iopub.execute_input": "2025-04-03T13:11:07.123318Z",
          "iopub.status.idle": "2025-04-03T13:11:07.255423Z",
          "shell.execute_reply.started": "2025-04-03T13:11:07.123288Z",
          "shell.execute_reply": "2025-04-03T13:11:07.254306Z"
        },
        "trusted": true,
        "id": "0JcbVycEVf1c"
      },
      "outputs": [],
      "execution_count": null
    },
    {
      "cell_type": "markdown",
      "source": [
        ""
      ],
      "metadata": {
        "id": "298mworaVf1c"
      }
    },
    {
      "cell_type": "markdown",
      "source": [
        "# Discount Analysis"
      ],
      "metadata": {
        "_kg_hide-input": true,
        "_kg_hide-output": true,
        "id": "bQcZ_6sLVf1c"
      }
    },
    {
      "cell_type": "markdown",
      "source": [],
      "metadata": {
        "id": "fbPkyKYfVf1c"
      }
    },
    {
      "cell_type": "markdown",
      "source": [
        ""
      ],
      "metadata": {
        "id": "ewOuCkuMVf1c"
      }
    },
    {
      "cell_type": "markdown",
      "source": [
        "\n",
        "<h3 style = \"background-color: #111;\n",
        "             padding: 15px;\n",
        "             font: bold 22px arial;\n",
        "             color: lightgreen;\n",
        "             border: 2px solid lime;\n",
        "             border-radius: 8px\">\n",
        " 2) Discount Analysis 🛒</h3>"
      ],
      "metadata": {
        "id": "XVS1tnItVf1c"
      }
    },
    {
      "cell_type": "markdown",
      "source": [
        "#### 2a) Overall Average discount"
      ],
      "metadata": {
        "id": "5RD2y5JzVf1c"
      }
    },
    {
      "cell_type": "code",
      "source": [
        "average_discount=np.mean(data['actual_price']-data['discount_price'])"
      ],
      "metadata": {
        "execution": {
          "iopub.status.busy": "2025-04-03T13:11:07.256978Z",
          "iopub.execute_input": "2025-04-03T13:11:07.257309Z",
          "iopub.status.idle": "2025-04-03T13:11:07.265267Z",
          "shell.execute_reply.started": "2025-04-03T13:11:07.257281Z",
          "shell.execute_reply": "2025-04-03T13:11:07.264002Z"
        },
        "trusted": true,
        "id": "yHA6sDRnVf1c"
      },
      "outputs": [],
      "execution_count": null
    },
    {
      "cell_type": "code",
      "source": [
        "print(\"Average discount given is \",np.round(average_discount,3))"
      ],
      "metadata": {
        "execution": {
          "iopub.status.busy": "2025-04-03T13:11:07.266711Z",
          "iopub.execute_input": "2025-04-03T13:11:07.267031Z",
          "iopub.status.idle": "2025-04-03T13:11:07.279163Z",
          "shell.execute_reply.started": "2025-04-03T13:11:07.267005Z",
          "shell.execute_reply": "2025-04-03T13:11:07.27767Z"
        },
        "trusted": true,
        "id": "n77vvZsCVf1c"
      },
      "outputs": [],
      "execution_count": null
    },
    {
      "cell_type": "code",
      "source": [
        "# Calculate the discount amount and percentage\n",
        "data['discount_amount'] = data['actual_price'] - data['discount_price']\n",
        "data['discount_percentage'] = (data['discount_amount'] / data['actual_price']) * 100"
      ],
      "metadata": {
        "execution": {
          "iopub.status.busy": "2025-04-03T13:11:07.280922Z",
          "iopub.execute_input": "2025-04-03T13:11:07.281261Z",
          "iopub.status.idle": "2025-04-03T13:11:07.301402Z",
          "shell.execute_reply.started": "2025-04-03T13:11:07.281234Z",
          "shell.execute_reply": "2025-04-03T13:11:07.299719Z"
        },
        "trusted": true,
        "id": "wfeELPbaVf1c"
      },
      "outputs": [],
      "execution_count": null
    },
    {
      "cell_type": "markdown",
      "source": [
        "#### 2b) Average discount across categories"
      ],
      "metadata": {
        "id": "hbCHTAvdVf1c"
      }
    },
    {
      "cell_type": "code",
      "source": [
        "data.loc[data['discount_percentage']==-np.inf]"
      ],
      "metadata": {
        "execution": {
          "iopub.status.busy": "2025-04-03T13:11:07.302934Z",
          "iopub.execute_input": "2025-04-03T13:11:07.303361Z",
          "iopub.status.idle": "2025-04-03T13:11:07.323704Z",
          "shell.execute_reply.started": "2025-04-03T13:11:07.30333Z",
          "shell.execute_reply": "2025-04-03T13:11:07.322162Z"
        },
        "trusted": true,
        "id": "axHQ7GrmVf1c"
      },
      "outputs": [],
      "execution_count": null
    },
    {
      "cell_type": "code",
      "source": [
        "#note that since actual_price is zero.\n",
        "#discount_percentage is getting infinity"
      ],
      "metadata": {
        "execution": {
          "iopub.status.busy": "2025-04-03T13:11:07.325251Z",
          "iopub.execute_input": "2025-04-03T13:11:07.325724Z",
          "iopub.status.idle": "2025-04-03T13:11:07.331165Z",
          "shell.execute_reply.started": "2025-04-03T13:11:07.325682Z",
          "shell.execute_reply": "2025-04-03T13:11:07.329955Z"
        },
        "trusted": true,
        "id": "lUkcmdG-Vf1c"
      },
      "outputs": [],
      "execution_count": null
    },
    {
      "cell_type": "code",
      "source": [
        "# Handle infinity\n",
        "data['discount_percentage'] = data['discount_percentage'].replace([np.inf, -np.inf], 0)\n",
        "# discount_percentage below 0 are set to 0.\n",
        "data['discount_percentage'] = data['discount_percentage'].clip(lower=0)\n"
      ],
      "metadata": {
        "execution": {
          "iopub.status.busy": "2025-04-03T13:11:07.332742Z",
          "iopub.execute_input": "2025-04-03T13:11:07.333108Z",
          "iopub.status.idle": "2025-04-03T13:11:07.36024Z",
          "shell.execute_reply.started": "2025-04-03T13:11:07.33308Z",
          "shell.execute_reply": "2025-04-03T13:11:07.358792Z"
        },
        "trusted": true,
        "id": "CSsBMJ6YVf1f"
      },
      "outputs": [],
      "execution_count": null
    },
    {
      "cell_type": "code",
      "source": [
        "overall_average_discount_percentage=np.mean(data['discount_percentage'] )\n",
        "print(\"Overall Average Discount Percentage is \",np.round(overall_average_discount_percentage,2))"
      ],
      "metadata": {
        "execution": {
          "iopub.status.busy": "2025-04-03T13:11:07.362049Z",
          "iopub.execute_input": "2025-04-03T13:11:07.362568Z",
          "iopub.status.idle": "2025-04-03T13:11:07.371415Z",
          "shell.execute_reply.started": "2025-04-03T13:11:07.362525Z",
          "shell.execute_reply": "2025-04-03T13:11:07.369937Z"
        },
        "trusted": true,
        "id": "VCNhIYk_Vf1f"
      },
      "outputs": [],
      "execution_count": null
    },
    {
      "cell_type": "code",
      "source": [
        "discount_analysis_main_category = data.groupby(['main_category']).agg({\n",
        "    'discount_amount': 'mean',\n",
        "    'discount_percentage': 'mean'\n",
        "}).round(2)\n",
        "discount_analysis_main_category"
      ],
      "metadata": {
        "execution": {
          "iopub.status.busy": "2025-04-03T13:11:07.372811Z",
          "iopub.execute_input": "2025-04-03T13:11:07.373148Z",
          "iopub.status.idle": "2025-04-03T13:11:07.441978Z",
          "shell.execute_reply.started": "2025-04-03T13:11:07.373106Z",
          "shell.execute_reply": "2025-04-03T13:11:07.440511Z"
        },
        "trusted": true,
        "id": "g0Qa0YjdVf1f"
      },
      "outputs": [],
      "execution_count": null
    },
    {
      "cell_type": "code",
      "source": [
        "# Reset index for easier plotting\n",
        "discount_analysis_main_category_reset = discount_analysis_main_category.reset_index()\n",
        "\n",
        "# Plotting using seaborn barplot\n",
        "plt.figure(figsize=(12, 6))\n",
        "bars=sns.barplot(y=discount_analysis_main_category_reset['discount_percentage'], x=discount_analysis_main_category_reset['main_category'] ,hue=discount_analysis_main_category_reset['main_category']\n",
        "            ,palette='summer')\n",
        "\n",
        "# Add labels to the bars\n",
        "for bar in bars.containers:\n",
        "    bars.bar_label(bar, fmt='%.2f%%', fontsize=11.2, color='black')\n",
        "\n",
        "\n",
        "plt.title('Discount distribution across Main Category',fontsize=15)\n",
        "plt.xlabel('Mean Discount Percentage',fontsize=10)\n",
        "plt.ylabel('Main category',fontsize=10)\n",
        "plt.xticks(rotation=90,fontsize=10)\n",
        "plt.tight_layout()\n",
        "\n",
        "plt.show()"
      ],
      "metadata": {
        "execution": {
          "iopub.status.busy": "2025-04-03T13:11:07.444022Z",
          "iopub.execute_input": "2025-04-03T13:11:07.444455Z",
          "iopub.status.idle": "2025-04-03T13:11:12.109563Z",
          "shell.execute_reply.started": "2025-04-03T13:11:07.444423Z",
          "shell.execute_reply": "2025-04-03T13:11:12.108281Z"
        },
        "trusted": true,
        "id": "ShNj4SjBVf1f"
      },
      "outputs": [],
      "execution_count": null
    },
    {
      "cell_type": "markdown",
      "source": [
        "##### Minimum discount is given to \"home, kitchen pets category\" ,namely 20.09%"
      ],
      "metadata": {
        "id": "DwoYxyIbVf1f"
      }
    },
    {
      "cell_type": "markdown",
      "source": [
        "##### Maximum discount is given to women's clothing, namely 57.98%"
      ],
      "metadata": {
        "id": "0dPg7a7nVf1f"
      }
    },
    {
      "cell_type": "code",
      "source": [
        "discount_analysis = data.groupby(['main_category', 'sub_category']).agg({\n",
        "    'discount_amount': 'mean',\n",
        "    'discount_percentage': 'mean'\n",
        "}).round(2).sort_values(by=['discount_percentage'])"
      ],
      "metadata": {
        "execution": {
          "iopub.status.busy": "2025-04-03T13:11:12.110837Z",
          "iopub.execute_input": "2025-04-03T13:11:12.111159Z",
          "iopub.status.idle": "2025-04-03T13:11:12.208471Z",
          "shell.execute_reply.started": "2025-04-03T13:11:12.111131Z",
          "shell.execute_reply": "2025-04-03T13:11:12.207319Z"
        },
        "trusted": true,
        "id": "AzJm3edOVf1f"
      },
      "outputs": [],
      "execution_count": null
    },
    {
      "cell_type": "code",
      "source": [
        "discount_analysis"
      ],
      "metadata": {
        "execution": {
          "iopub.status.busy": "2025-04-03T13:11:12.209703Z",
          "iopub.execute_input": "2025-04-03T13:11:12.21004Z",
          "iopub.status.idle": "2025-04-03T13:11:12.229326Z",
          "shell.execute_reply.started": "2025-04-03T13:11:12.210012Z",
          "shell.execute_reply": "2025-04-03T13:11:12.227707Z"
        },
        "trusted": true,
        "id": "eOSsIPZqVf1f"
      },
      "outputs": [],
      "execution_count": null
    },
    {
      "cell_type": "markdown",
      "source": [
        ">\n",
        "##### minimum discount of 20.09% is given to \"home, kitchen, pets\" section, specifically to uncommon category"
      ],
      "metadata": {
        "id": "dtvd0BY5Vf1f"
      }
    },
    {
      "cell_type": "markdown",
      "source": [
        ">\n",
        "##### maximum discount of 64.76% is given to \"accessories\" section specifically to \"fashion & silver jewellery\""
      ],
      "metadata": {
        "id": "LVJd_RGvVf1f"
      }
    },
    {
      "cell_type": "markdown",
      "source": [
        "#### 2c) Correlation between 'discount_price' and 'actual_price'"
      ],
      "metadata": {
        "id": "N9n0ai2gVf1f"
      }
    },
    {
      "cell_type": "code",
      "source": [
        "# Calculate the correlation between 'discount_price' and 'actual_price'\n",
        "correlation = data['discount_price'].corr(data['actual_price'])\n",
        "\n",
        "# Print the result\n",
        "print(f\"The correlation between discount_price and actual_price is: {correlation}\")"
      ],
      "metadata": {
        "execution": {
          "iopub.status.busy": "2025-04-03T13:11:12.23118Z",
          "iopub.execute_input": "2025-04-03T13:11:12.231629Z",
          "iopub.status.idle": "2025-04-03T13:11:12.251363Z",
          "shell.execute_reply.started": "2025-04-03T13:11:12.231589Z",
          "shell.execute_reply": "2025-04-03T13:11:12.250115Z"
        },
        "trusted": true,
        "id": "loQ9twTdVf1g"
      },
      "outputs": [],
      "execution_count": null
    },
    {
      "cell_type": "code",
      "source": [
        "corr_mat=data[['discount_price' ,'actual_price']].corr()\n",
        "sns.heatmap(corr_mat,annot=True, cmap='summer', fmt='.3f', square=True)"
      ],
      "metadata": {
        "execution": {
          "iopub.status.busy": "2025-04-03T13:11:12.253048Z",
          "iopub.execute_input": "2025-04-03T13:11:12.253566Z",
          "iopub.status.idle": "2025-04-03T13:11:12.542136Z",
          "shell.execute_reply.started": "2025-04-03T13:11:12.253489Z",
          "shell.execute_reply": "2025-04-03T13:11:12.540895Z"
        },
        "trusted": true,
        "id": "N8Gw_YkyVf1g"
      },
      "outputs": [],
      "execution_count": null
    },
    {
      "cell_type": "markdown",
      "source": [
        ">\n",
        "##### This shows that correlation between discount_price and actual_price is approximately zero.\n",
        "##### Thus discount_price and actual_price are independent of each other"
      ],
      "metadata": {
        "id": "5U0dPFL_Vf1g"
      }
    },
    {
      "cell_type": "markdown",
      "source": [
        ""
      ],
      "metadata": {
        "id": "hkB3ZKmyVf1g"
      }
    },
    {
      "cell_type": "markdown",
      "source": [
        "# Ratings Analysis"
      ],
      "metadata": {
        "_kg_hide-input": true,
        "_kg_hide-output": true,
        "id": "uQpVSJ2vVf1g"
      }
    },
    {
      "cell_type": "markdown",
      "source": [
        ""
      ],
      "metadata": {
        "id": "KVYo76u7Vf1g"
      }
    },
    {
      "cell_type": "markdown",
      "source": [
        "\n",
        "\n",
        "<h3 style = \"background-color: #111;\n",
        "             padding: 15px;\n",
        "             font: bold 22px arial;\n",
        "             color: lightgreen;\n",
        "             border: 2px solid lime;\n",
        "             border-radius: 8px\">\n",
        " 3) Ratings Analysis⭐️⭐️⭐️⭐️⭐️ </h3>"
      ],
      "metadata": {
        "id": "rog79f8LVf1g"
      }
    },
    {
      "cell_type": "markdown",
      "source": [
        "#### a) Calculate the average rating for each main_category ."
      ],
      "metadata": {
        "id": "OdQi10RGVf1g"
      }
    },
    {
      "cell_type": "code",
      "source": [
        "avg_ratings=np.round(data['ratings'].mean(),2)\n",
        "print(\"Overal Average Rating is\",avg_ratings)"
      ],
      "metadata": {
        "execution": {
          "iopub.status.busy": "2025-04-03T13:11:12.543595Z",
          "iopub.execute_input": "2025-04-03T13:11:12.543956Z",
          "iopub.status.idle": "2025-04-03T13:11:12.553235Z",
          "shell.execute_reply.started": "2025-04-03T13:11:12.543926Z",
          "shell.execute_reply": "2025-04-03T13:11:12.551932Z"
        },
        "trusted": true,
        "id": "up_oNKPqVf1g"
      },
      "outputs": [],
      "execution_count": null
    },
    {
      "cell_type": "code",
      "source": [
        "main_category_grouped=data.groupby('main_category')\n",
        "main_category_avg_rating=np.round(main_category_grouped['ratings'].mean(),2)\n",
        "main_category_avg_rating.sort_values(ascending=True)"
      ],
      "metadata": {
        "execution": {
          "iopub.status.busy": "2025-04-03T13:11:12.554726Z",
          "iopub.execute_input": "2025-04-03T13:11:12.555194Z",
          "iopub.status.idle": "2025-04-03T13:11:12.60701Z",
          "shell.execute_reply.started": "2025-04-03T13:11:12.555124Z",
          "shell.execute_reply": "2025-04-03T13:11:12.605926Z"
        },
        "trusted": true,
        "id": "y_SMWLzPVf1g"
      },
      "outputs": [],
      "execution_count": null
    },
    {
      "cell_type": "markdown",
      "source": [
        "#### b) Identify category with the highest and lowest ratings."
      ],
      "metadata": {
        "id": "OFRzOqx4Vf1g"
      }
    },
    {
      "cell_type": "code",
      "source": [
        "# Find the highest and least rated categories\n",
        "\n",
        "highest_rated_category = main_category_avg_rating.idxmax()\n",
        "highest_rating = main_category_avg_rating.max()\n",
        "\n",
        "least_rated_category = main_category_avg_rating.idxmin()\n",
        "least_rating = main_category_avg_rating.min()\n",
        "\n",
        "# Print the results\n",
        "print(f\"Highest rated category: '{highest_rated_category}' with a rating of {highest_rating}\")\n",
        "print(f\"Least rated category: '{least_rated_category}' with a rating of {least_rating}\")"
      ],
      "metadata": {
        "execution": {
          "iopub.status.busy": "2025-04-03T13:11:12.608587Z",
          "iopub.execute_input": "2025-04-03T13:11:12.609023Z",
          "iopub.status.idle": "2025-04-03T13:11:12.617322Z",
          "shell.execute_reply.started": "2025-04-03T13:11:12.608974Z",
          "shell.execute_reply": "2025-04-03T13:11:12.615887Z"
        },
        "trusted": true,
        "id": "DAnOQYtRVf1g"
      },
      "outputs": [],
      "execution_count": null
    },
    {
      "cell_type": "code",
      "source": [
        "# Plotting\n",
        "plt.figure(figsize=(12,6))\n",
        "bars=sns.barplot(x=main_category_avg_rating.index,y=main_category_avg_rating.values,color='pink')\n",
        "plt.bar_label(bars.containers[0], labels=main_category_avg_rating,fontsize=11.5,color='black')\n",
        "plt.xticks(rotation=90,fontsize=10)\n",
        "plt.title(\"Avg Rating across Main Category\",fontsize=15)\n",
        "plt.xlabel(\"Main Category  --->\",fontsize=10)\n",
        "plt.ylabel(\"Avg Rating  --->\",fontsize=10)\n",
        "plt.ylim(0,5)\n",
        "plt.show()"
      ],
      "metadata": {
        "execution": {
          "iopub.status.busy": "2025-04-03T13:11:12.618364Z",
          "iopub.execute_input": "2025-04-03T13:11:12.61875Z",
          "iopub.status.idle": "2025-04-03T13:11:13.110593Z",
          "shell.execute_reply.started": "2025-04-03T13:11:12.618718Z",
          "shell.execute_reply": "2025-04-03T13:11:13.109222Z"
        },
        "trusted": true,
        "id": "a0mxM1GnVf1h"
      },
      "outputs": [],
      "execution_count": null
    },
    {
      "cell_type": "markdown",
      "source": [
        ">"
      ],
      "metadata": {
        "id": "2S7JSLLaVf1h"
      }
    },
    {
      "cell_type": "markdown",
      "source": [
        "##### least rated category- \"home, kitchen, pets\""
      ],
      "metadata": {
        "id": "IKuleQhfVf1h"
      }
    },
    {
      "cell_type": "markdown",
      "source": [
        ">\n",
        "#####  Clearly,  highest rated category-\"grocery & gourmet foods\"\n",
        "        "
      ],
      "metadata": {
        "id": "-6lgEqpCVf1h"
      }
    },
    {
      "cell_type": "markdown",
      "source": [
        "#### c) Calculate the average rating for each main_category and sub_category"
      ],
      "metadata": {
        "id": "CLZGZwyoVf1h"
      }
    },
    {
      "cell_type": "code",
      "source": [
        "# Group by 'main_category' and 'sub_category' and calculate the mean ratings\n",
        "grouped = data.groupby(['main_category', 'sub_category'])\n",
        "avg_ratings = np.round(grouped['ratings'].mean(), 2)\n",
        "# Print the result\n",
        "print(avg_ratings)"
      ],
      "metadata": {
        "execution": {
          "iopub.status.busy": "2025-04-03T13:11:13.112421Z",
          "iopub.execute_input": "2025-04-03T13:11:13.112886Z",
          "iopub.status.idle": "2025-04-03T13:11:13.205033Z",
          "shell.execute_reply.started": "2025-04-03T13:11:13.112842Z",
          "shell.execute_reply": "2025-04-03T13:11:13.203866Z"
        },
        "trusted": true,
        "id": "ZevPlualVf1h"
      },
      "outputs": [],
      "execution_count": null
    },
    {
      "cell_type": "code",
      "source": [
        "sub_category_grouped=data.groupby('sub_category')\n",
        "sub_category_avg_rating=np.round(sub_category_grouped['ratings'].mean(),2)\n",
        "sub_category_avg_rating=sub_category_avg_rating.sort_values(ascending=True)\n",
        "sub_category_avg_rating"
      ],
      "metadata": {
        "execution": {
          "iopub.status.busy": "2025-04-03T13:11:13.206317Z",
          "iopub.execute_input": "2025-04-03T13:11:13.20666Z",
          "iopub.status.idle": "2025-04-03T13:11:13.269755Z",
          "shell.execute_reply.started": "2025-04-03T13:11:13.206633Z",
          "shell.execute_reply": "2025-04-03T13:11:13.268573Z"
        },
        "trusted": true,
        "id": "8mU-1wahVf1h"
      },
      "outputs": [],
      "execution_count": null
    },
    {
      "cell_type": "code",
      "source": [
        "plt.figure(figsize=(12,7))\n",
        "bars=sub_category_avg_rating.sort_values().plot(kind='barh',figsize=(10,8),title=\"RATINGS ACROSS DIFFERENT SUBCATEGORIES\",color='#9B59B6',alpha=0.7)\n",
        "plt.bar_label(bars.containers[0], labels=sub_category_avg_rating, padding=2,fontsize=13)\n",
        "plt.title(\"Ratings Across SubCategory -->\",fontsize=15)\n",
        "plt.ylabel(\"Sub Category\", fontsize=10)\n",
        "plt.xlabel(\"Avg Rating -->\", fontsize=10)\n",
        "plt.yticks(fontsize=10)\n",
        "plt.xlim(0,5)\n",
        "plt.show()"
      ],
      "metadata": {
        "execution": {
          "iopub.status.busy": "2025-04-03T13:11:13.271179Z",
          "iopub.execute_input": "2025-04-03T13:11:13.271613Z",
          "iopub.status.idle": "2025-04-03T13:11:13.808261Z",
          "shell.execute_reply.started": "2025-04-03T13:11:13.271572Z",
          "shell.execute_reply": "2025-04-03T13:11:13.80715Z"
        },
        "trusted": true,
        "id": "w17XuMK1Vf1h"
      },
      "outputs": [],
      "execution_count": null
    },
    {
      "cell_type": "markdown",
      "source": [
        "##### \"Kids\" is least rated subcategory and \"Sports\" is highly rated"
      ],
      "metadata": {
        "id": "rr98rAFGVf1h"
      }
    },
    {
      "cell_type": "markdown",
      "source": [
        "##### It is important to note that every category has got avg rating >3.5"
      ],
      "metadata": {
        "id": "I26mu1OAVf1h"
      }
    },
    {
      "cell_type": "markdown",
      "source": [
        "#### 3 d) the relationship between ratings and no._of_ratings."
      ],
      "metadata": {
        "id": "Z3SoCseHVf1i"
      }
    },
    {
      "cell_type": "code",
      "source": [
        "correlation = data['ratings'].corr(data['no_of_ratings'])\n",
        "print(f\"The correlation between ratings and no._of_ratings is: {correlation:.2f}\")"
      ],
      "metadata": {
        "execution": {
          "iopub.status.busy": "2025-04-03T13:11:13.809811Z",
          "iopub.execute_input": "2025-04-03T13:11:13.810226Z",
          "iopub.status.idle": "2025-04-03T13:11:13.825464Z",
          "shell.execute_reply.started": "2025-04-03T13:11:13.810188Z",
          "shell.execute_reply": "2025-04-03T13:11:13.824085Z"
        },
        "trusted": true,
        "id": "nF-a7Q7-Vf1i"
      },
      "outputs": [],
      "execution_count": null
    },
    {
      "cell_type": "markdown",
      "source": [
        "##### Correlation of 0.03 suggests that knowing the rating of a product does not give useful information about the number of ratings it has received."
      ],
      "metadata": {
        "id": "DrscUZF_Vf1i"
      }
    },
    {
      "cell_type": "code",
      "source": [
        "import matplotlib.pyplot as plt\n",
        "\n",
        "plt.scatter(data['ratings'], data['no_of_ratings'],c='#2ECC71')\n",
        "plt.title('Scatter Plot of Ratings vs Number of Ratings')\n",
        "plt.xlabel('Ratings')\n",
        "plt.ylabel('Number of Ratings')\n",
        "plt.show()"
      ],
      "metadata": {
        "execution": {
          "iopub.status.busy": "2025-04-03T13:11:13.826981Z",
          "iopub.execute_input": "2025-04-03T13:11:13.827359Z",
          "iopub.status.idle": "2025-04-03T13:11:15.257495Z",
          "shell.execute_reply.started": "2025-04-03T13:11:13.82733Z",
          "shell.execute_reply": "2025-04-03T13:11:15.256216Z"
        },
        "trusted": true,
        "id": "maiGaU_ZVf1i"
      },
      "outputs": [],
      "execution_count": null
    },
    {
      "cell_type": "markdown",
      "source": [
        ""
      ],
      "metadata": {
        "id": "EwavmyTLVf1i"
      }
    },
    {
      "cell_type": "markdown",
      "source": [
        ""
      ],
      "metadata": {
        "id": "ln--lXLYVf1i"
      }
    },
    {
      "cell_type": "markdown",
      "source": [
        "# Product analysis"
      ],
      "metadata": {
        "_kg_hide-input": true,
        "_kg_hide-output": true,
        "id": "xe7o6kmyVf1i"
      }
    },
    {
      "cell_type": "markdown",
      "source": [
        "\n",
        "<h3 style = \"background-color: #111;\n",
        "             padding: 15px;\n",
        "             font: bold 22px arial;\n",
        "             color: lightgreen;\n",
        "             border: 2px solid lime;\n",
        "             border-radius: 8px\">\n",
        " 4) Product Analysis 🚚🎒🔍 </h3>"
      ],
      "metadata": {
        "id": "mn1trOX7Vf1i"
      }
    },
    {
      "cell_type": "markdown",
      "source": [
        "#### 4 a) Number Of Products in different Categories"
      ],
      "metadata": {
        "id": "O2lDpUmPVf1i"
      }
    },
    {
      "cell_type": "code",
      "source": [
        "data_group = data.groupby(['main_category']).agg({'name':'count'}).reset_index()\n",
        "data_group.columns = ['main_category', 'No_of_products']\n",
        "\n",
        "# Print the result\n",
        "print(data_group)\n"
      ],
      "metadata": {
        "execution": {
          "iopub.status.busy": "2025-04-03T13:11:15.258775Z",
          "iopub.execute_input": "2025-04-03T13:11:15.259223Z",
          "iopub.status.idle": "2025-04-03T13:11:15.334681Z",
          "shell.execute_reply.started": "2025-04-03T13:11:15.259182Z",
          "shell.execute_reply": "2025-04-03T13:11:15.33362Z"
        },
        "trusted": true,
        "id": "UPxFLkAzVf1i"
      },
      "outputs": [],
      "execution_count": null
    },
    {
      "cell_type": "code",
      "source": [
        "plt.figure(figsize=(12,6))\n",
        "bars=plt.bar(data_group['main_category'],data_group['No_of_products'],color='skyblue',alpha=1)\n",
        "plt.bar_label(bars, label=data_group['No_of_products'],label_type='edge',fontsize=11,color='black')\n",
        "plt.xticks(rotation=90,fontsize=10)\n",
        "plt.yticks(fontsize=10)\n",
        "plt.xlabel(\"Main Categories -->\", fontsize=10)\n",
        "plt.ylabel(\"Product Count -->\" ,fontsize=10)\n",
        "plt.title(\"NUMBER OF PRODUCTS IN DIFFERENT CATEGORIES\",fontsize=15)\n",
        "plt.show()"
      ],
      "metadata": {
        "execution": {
          "iopub.status.busy": "2025-04-03T13:11:15.335992Z",
          "iopub.execute_input": "2025-04-03T13:11:15.336335Z",
          "iopub.status.idle": "2025-04-03T13:11:15.824712Z",
          "shell.execute_reply.started": "2025-04-03T13:11:15.336308Z",
          "shell.execute_reply": "2025-04-03T13:11:15.823584Z"
        },
        "trusted": true,
        "id": "LT_92sZAVf1i"
      },
      "outputs": [],
      "execution_count": null
    },
    {
      "cell_type": "markdown",
      "source": [
        "#### 4b) Products with the highest number of ratings (TOP 10 PRODUCTS)"
      ],
      "metadata": {
        "id": "rlYkARZbVf1i"
      }
    },
    {
      "cell_type": "code",
      "source": [
        "data_gr=data.groupby(['name']).agg({'no_of_ratings': 'sum'}).sort_values(by='no_of_ratings',ascending=False)\n",
        "\n",
        "# Assign ranks, ensuring that products with the same number of ratings get the same rank\n",
        "data_gr['rank'] = data_gr['no_of_ratings'].rank(method='dense', ascending=False)\n",
        "\n",
        "top_n = 10\n",
        "top_products = data_gr[data_gr['rank'] <= top_n]\n",
        "top_products.columns=['no_of_ratings','rank']"
      ],
      "metadata": {
        "execution": {
          "iopub.status.busy": "2025-04-03T13:11:15.826454Z",
          "iopub.execute_input": "2025-04-03T13:11:15.82679Z",
          "iopub.status.idle": "2025-04-03T13:11:17.194236Z",
          "shell.execute_reply.started": "2025-04-03T13:11:15.826762Z",
          "shell.execute_reply": "2025-04-03T13:11:17.193089Z"
        },
        "trusted": true,
        "id": "OqrDODnsVf1i"
      },
      "outputs": [],
      "execution_count": null
    },
    {
      "cell_type": "code",
      "source": [
        "print(top_products)"
      ],
      "metadata": {
        "execution": {
          "iopub.status.busy": "2025-04-03T13:11:17.195585Z",
          "iopub.execute_input": "2025-04-03T13:11:17.195916Z",
          "iopub.status.idle": "2025-04-03T13:11:17.204912Z",
          "shell.execute_reply.started": "2025-04-03T13:11:17.195888Z",
          "shell.execute_reply": "2025-04-03T13:11:17.203831Z"
        },
        "trusted": true,
        "id": "xoNTnPH1Vf1i"
      },
      "outputs": [],
      "execution_count": null
    },
    {
      "cell_type": "code",
      "source": [
        "# plot top 3 products\n",
        "\n",
        "top_3_products = data_gr[data_gr['rank'] <= 3]\n",
        "\n",
        "# Plotting the top 3 products\n",
        "plt.figure(figsize=(12, 6))\n",
        "sns.barplot(x=top_3_products.index, y='no_of_ratings', data=top_3_products,width=0.4)\n",
        "plt.title('Top 3 Products by Number of Ratings',fontsize=15)\n",
        "plt.xlabel('Product Name',fontsize=10)\n",
        "plt.ylabel('Number of Ratings',fontsize=10)\n",
        "\n",
        "plt.xticks(rotation=90,fontsize=10)\n",
        "\n",
        "plt.show()"
      ],
      "metadata": {
        "execution": {
          "iopub.status.busy": "2025-04-03T13:11:17.206037Z",
          "iopub.execute_input": "2025-04-03T13:11:17.206437Z",
          "iopub.status.idle": "2025-04-03T13:11:17.587065Z",
          "shell.execute_reply.started": "2025-04-03T13:11:17.206371Z",
          "shell.execute_reply": "2025-04-03T13:11:17.585726Z"
        },
        "trusted": true,
        "id": "CX-nFUnxVf1j"
      },
      "outputs": [],
      "execution_count": null
    },
    {
      "cell_type": "markdown",
      "source": [
        ""
      ],
      "metadata": {
        "id": "ccsOxXKYVf1j"
      }
    },
    {
      "cell_type": "markdown",
      "source": [
        ""
      ],
      "metadata": {
        "id": "Di0hbyigVf1j"
      }
    },
    {
      "cell_type": "markdown",
      "source": [
        "# Correlation Analysis"
      ],
      "metadata": {
        "_kg_hide-input": true,
        "_kg_hide-output": true,
        "id": "ZNfoZI1fVf1j"
      }
    },
    {
      "cell_type": "markdown",
      "source": [
        "\n",
        "<h3 style = \"background-color: #111;\n",
        "             padding: 15px;\n",
        "             font: bold 22px arial;\n",
        "             color: lightgreen;\n",
        "             border: 2px solid lime;\n",
        "             border-radius: 8px\">\n",
        " 5) Correlation Analysis✍️ </h3>"
      ],
      "metadata": {
        "id": "R5rF87lBVf1j"
      }
    },
    {
      "cell_type": "code",
      "source": [
        "correlation_matrix = data[['ratings', 'no_of_ratings', 'discount_price', 'actual_price']].corr()\n",
        "print(correlation_matrix)"
      ],
      "metadata": {
        "execution": {
          "iopub.status.busy": "2025-04-03T13:11:17.588505Z",
          "iopub.execute_input": "2025-04-03T13:11:17.588941Z",
          "iopub.status.idle": "2025-04-03T13:11:17.643582Z",
          "shell.execute_reply.started": "2025-04-03T13:11:17.588903Z",
          "shell.execute_reply": "2025-04-03T13:11:17.642349Z"
        },
        "trusted": true,
        "id": "IU6y4jTdVf1j"
      },
      "outputs": [],
      "execution_count": null
    },
    {
      "cell_type": "code",
      "source": [
        "# Plot heatmap\n",
        "plt.figure(figsize=(10, 8))\n",
        "sns.heatmap(correlation_matrix, annot=True, cmap='cividis', fmt='.3f', square=True)\n",
        "plt.title('Correlation Matrix Heatmap',fontsize=20)\n",
        "plt.xticks(fontsize=15)\n",
        "plt.yticks(fontsize=15,rotation=360)\n",
        "plt.show()"
      ],
      "metadata": {
        "execution": {
          "iopub.status.busy": "2025-04-03T13:11:17.645111Z",
          "iopub.execute_input": "2025-04-03T13:11:17.645509Z",
          "iopub.status.idle": "2025-04-03T13:11:18.001368Z",
          "shell.execute_reply.started": "2025-04-03T13:11:17.645478Z",
          "shell.execute_reply": "2025-04-03T13:11:18.00012Z"
        },
        "trusted": true,
        "id": "CaLPsEONVf1j"
      },
      "outputs": [],
      "execution_count": null
    },
    {
      "cell_type": "markdown",
      "source": [
        "##### Clearly these values are close to zero. Hence, there is no linear relationship between variables."
      ],
      "metadata": {
        "id": "bGeRIhc3Vf1j"
      }
    },
    {
      "cell_type": "markdown",
      "source": [
        ""
      ],
      "metadata": {
        "id": "wlE8Jo33Vf1j"
      }
    },
    {
      "cell_type": "markdown",
      "source": [
        ""
      ],
      "metadata": {
        "id": "k3ytv341Vf1j"
      }
    },
    {
      "cell_type": "markdown",
      "source": [
        "# Revenue Analysis"
      ],
      "metadata": {
        "_kg_hide-input": true,
        "_kg_hide-output": true,
        "id": "SCQ_CZErVf1j"
      }
    },
    {
      "cell_type": "markdown",
      "source": [
        "\n",
        "<h3 style = \"background-color: #111;\n",
        "             padding: 15px;\n",
        "             font: bold 22px arial;\n",
        "             color: lightgreen;\n",
        "             border: 2px solid lime;\n",
        "             border-radius: 8px\">\n",
        "  6)Revenue Analysis 💰💸🧾️ </h3>"
      ],
      "metadata": {
        "id": "J_tK6BneVf1j"
      }
    },
    {
      "cell_type": "markdown",
      "source": [
        "##### We'll estimate minimum revenue based on no. of ratings.\n",
        "\n",
        "##### It assumes that the number of ratings directly correlates with the number of sales.\n",
        "##### This may not always be true, as not every customer who buys a product leaves a rating.\n",
        "##### This approach can give an idea of minimum revenue generated."
      ],
      "metadata": {
        "id": "LoejASc2Vf1k"
      }
    },
    {
      "cell_type": "markdown",
      "source": [
        ""
      ],
      "metadata": {
        "id": "q9uEFcEoVf1k"
      }
    },
    {
      "cell_type": "markdown",
      "source": [
        "#### 6a) Revenue across main_categories"
      ],
      "metadata": {
        "id": "91QNNdHSVf1k"
      }
    },
    {
      "cell_type": "code",
      "source": [
        "\n",
        "# Calculate revenue\n",
        "data['revenue'] = data['no_of_ratings'] * data['actual_price']\n",
        "\n",
        "\n",
        "# Aggregating revenue by main_category\n",
        "category_revenue = data.groupby('main_category')['revenue'].sum().sort_values(ascending=False)\n",
        "\n",
        "print(category_revenue)"
      ],
      "metadata": {
        "execution": {
          "iopub.status.busy": "2025-04-03T13:11:18.002703Z",
          "iopub.execute_input": "2025-04-03T13:11:18.003038Z",
          "iopub.status.idle": "2025-04-03T13:11:18.05581Z",
          "shell.execute_reply.started": "2025-04-03T13:11:18.003011Z",
          "shell.execute_reply": "2025-04-03T13:11:18.054038Z"
        },
        "trusted": true,
        "id": "Ake6fG1LVf1k"
      },
      "outputs": [],
      "execution_count": null
    },
    {
      "cell_type": "code",
      "source": [
        "import matplotlib.pyplot as plt\n",
        "import seaborn as sns\n",
        "\n",
        "plt.figure(figsize=(15, 6))\n",
        "sns.barplot(x=category_revenue.index, y=category_revenue.values, palette='magma', width=0.8)\n",
        "plt.title('Total Revenue by Main Category', fontsize=15)\n",
        "plt.xlabel('Main Category', fontsize=10)\n",
        "plt.ylabel('Total Revenue', fontsize=10)\n",
        "plt.xticks(rotation=90, fontsize=10)\n",
        "plt.yticks(fontsize=10)\n",
        "plt.show()\n"
      ],
      "metadata": {
        "execution": {
          "iopub.status.busy": "2025-04-03T13:11:18.058222Z",
          "iopub.execute_input": "2025-04-03T13:11:18.058769Z",
          "iopub.status.idle": "2025-04-03T13:11:18.436737Z",
          "shell.execute_reply.started": "2025-04-03T13:11:18.058725Z",
          "shell.execute_reply": "2025-04-03T13:11:18.435359Z"
        },
        "trusted": true,
        "id": "WaQ4BUF-Vf1k"
      },
      "outputs": [],
      "execution_count": null
    },
    {
      "cell_type": "code",
      "source": [],
      "metadata": {
        "trusted": true,
        "id": "dt1xtTtuVf1k"
      },
      "outputs": [],
      "execution_count": null
    },
    {
      "cell_type": "markdown",
      "source": [
        "#### 6b) Top 10 products by revenue"
      ],
      "metadata": {
        "id": "tYJZZ0VfVf1k"
      }
    },
    {
      "cell_type": "code",
      "source": [
        "data.to_csv(\"Amazon_Products_cleaned_dataset.csv\",index=False)"
      ],
      "metadata": {
        "execution": {
          "iopub.status.busy": "2025-04-03T13:11:18.438043Z",
          "iopub.execute_input": "2025-04-03T13:11:18.438392Z",
          "iopub.status.idle": "2025-04-03T13:11:23.76285Z",
          "shell.execute_reply.started": "2025-04-03T13:11:18.438345Z",
          "shell.execute_reply": "2025-04-03T13:11:23.761702Z"
        },
        "trusted": true,
        "id": "NieRWNnpVf1k"
      },
      "outputs": [],
      "execution_count": null
    },
    {
      "cell_type": "code",
      "source": [
        "\n",
        "# Assuming 'data' is your DataFrame\n",
        "top_products = data.groupby(['name']).agg({'revenue':'sum'}).sort_values(by='revenue', ascending=False).head(10).reset_index()\n",
        "\n",
        "plt.figure(figsize=(12, 6))\n",
        "bars = sns.barplot(x='name', y='revenue', data=top_products, palette='viridis')\n",
        "plt.title('Top 10 Products by Revenue')\n",
        "plt.xlabel('Product Name')\n",
        "plt.ylabel('Revenue')\n",
        "plt.xticks(rotation=90)\n",
        "\n",
        "# Add the exact sales numbers inside the bars\n",
        "for bar in bars.patches:\n",
        "    yval = bar.get_height()\n",
        "    plt.text(\n",
        "        bar.get_x() + bar.get_width() / 2.0,\n",
        "        yval / 2,\n",
        "        f'{yval:,.2f}',\n",
        "        ha='center',\n",
        "        va='center',\n",
        "        color='white',\n",
        "        rotation='vertical',\n",
        "        fontsize=10\n",
        "    )\n",
        "\n",
        "plt.show()\n"
      ],
      "metadata": {
        "execution": {
          "iopub.status.busy": "2025-04-03T13:11:23.764157Z",
          "iopub.execute_input": "2025-04-03T13:11:23.764582Z",
          "iopub.status.idle": "2025-04-03T13:11:25.492749Z",
          "shell.execute_reply.started": "2025-04-03T13:11:23.764545Z",
          "shell.execute_reply": "2025-04-03T13:11:25.491558Z"
        },
        "trusted": true,
        "id": "F5qwMTx0Vf1k"
      },
      "outputs": [],
      "execution_count": null
    },
    {
      "cell_type": "markdown",
      "source": [
        "  "
      ],
      "metadata": {
        "id": "dDwTgAXkVf1k"
      }
    },
    {
      "cell_type": "markdown",
      "source": [
        "  "
      ],
      "metadata": {
        "id": "xeQPiQ2PVf1k"
      }
    },
    {
      "cell_type": "markdown",
      "source": [
        "<h3 style = \"background-color: #000033;\n",
        "             padding: 15px;\n",
        "             font: bold 42px arial;\n",
        "             color: #ccebff;\n",
        "             border: 2px #e6e6ff;\n",
        "             border-radius: 8px\">\n",
        "Enjoyed the notebook? An upvote would be truly appreciated!</h3>"
      ],
      "metadata": {
        "id": "IRAygCUbVf1k"
      }
    },
    {
      "cell_type": "code",
      "source": [],
      "metadata": {
        "trusted": true,
        "id": "69NED3sYVf1k"
      },
      "outputs": [],
      "execution_count": null
    }
  ]
}